{
 "cells": [
  {
   "cell_type": "code",
   "execution_count": 15,
   "id": "c95481e5",
   "metadata": {},
   "outputs": [
    {
     "name": "stdout",
     "output_type": "stream",
     "text": [
      "First Session of ISM 611 Batch 2022-2024\n"
     ]
    }
   ],
   "source": [
    "print(\"First Session of ISM 611 Batch 2022-2024\")"
   ]
  },
  {
   "cell_type": "code",
   "execution_count": 16,
   "id": "93034812",
   "metadata": {},
   "outputs": [
    {
     "name": "stdout",
     "output_type": "stream",
     "text": [
      "1.6666666666666667\n"
     ]
    }
   ],
   "source": [
    "# Let's learn about string, integers and float varibles and Errors\n",
    "a = 5; b = 3\n",
    "c = a/b\n",
    "print(c)"
   ]
  },
  {
   "cell_type": "code",
   "execution_count": 17,
   "id": "b3f4fbf8",
   "metadata": {},
   "outputs": [
    {
     "name": "stdout",
     "output_type": "stream",
     "text": [
      "1.6129032258064515\n"
     ]
    }
   ],
   "source": [
    "a = 5.0; b = 3.1 # these are now float \n",
    "c = a/b\n",
    "print(c)"
   ]
  },
  {
   "cell_type": "code",
   "execution_count": 18,
   "id": "36bec06e",
   "metadata": {},
   "outputs": [
    {
     "name": "stdout",
     "output_type": "stream",
     "text": [
      "1\n",
      "5.6\n",
      "[2.3, 4.5]\n"
     ]
    }
   ],
   "source": [
    "\"\"\"\n",
    "Let's learn about the data structures:\n",
    "List\n",
    "Tuples\n",
    "Dictionaries\n",
    "\"\"\"\n",
    "list_ex_1 = [1, 2.3, 4.5, 5.6]\n",
    "\n",
    "#get the first element\n",
    "print(list_ex_1[0])\n",
    "\n",
    "#get the last element\n",
    "print(list_ex_1[-1])\n",
    "\n",
    "print(list_ex_1[1:3])"
   ]
  },
  {
   "cell_type": "code",
   "execution_count": 19,
   "id": "c398a108",
   "metadata": {},
   "outputs": [
    {
     "name": "stdout",
     "output_type": "stream",
     "text": [
      "[7.9, 2.3, 4.5, 5.6]\n"
     ]
    }
   ],
   "source": [
    "#update the existing list\n",
    "list_ex_1[0] = 7.9\n",
    "print(list_ex_1)"
   ]
  },
  {
   "cell_type": "code",
   "execution_count": 20,
   "id": "b0f70458",
   "metadata": {},
   "outputs": [
    {
     "name": "stdout",
     "output_type": "stream",
     "text": [
      "[7.9, 2.3, 4.5, 8.9]\n"
     ]
    }
   ],
   "source": [
    "# replace last element with another value\n",
    "list_ex_1[-1] = 8.9\n",
    "print(list_ex_1)"
   ]
  },
  {
   "cell_type": "code",
   "execution_count": 21,
   "id": "f024615b",
   "metadata": {},
   "outputs": [
    {
     "name": "stdout",
     "output_type": "stream",
     "text": [
      "dict_items([('A', 1), ('B', 2.3), ('C', 4.5), ('D', 5.6)])\n"
     ]
    }
   ],
   "source": [
    "# dictionary\n",
    "dict_ex_1 = {\"A\":1, \"B\":2.3, \"C\":4.5, \"D\":5.6}\n",
    "print(dict_ex_1.items())"
   ]
  },
  {
   "cell_type": "code",
   "execution_count": 22,
   "id": "6accba84",
   "metadata": {},
   "outputs": [
    {
     "name": "stdout",
     "output_type": "stream",
     "text": [
      "dict_keys(['A', 'B', 'C', 'D'])\n",
      "dict_values([1, 2.3, 4.5, 5.6])\n"
     ]
    }
   ],
   "source": [
    "# get the keys\n",
    "print(dict_ex_1.keys())\n",
    "\n",
    "#get the values\n",
    "print(dict_ex_1.values())"
   ]
  },
  {
   "cell_type": "code",
   "execution_count": 23,
   "id": "fd1912a5",
   "metadata": {},
   "outputs": [
    {
     "name": "stdout",
     "output_type": "stream",
     "text": [
      "[('A', 1), ('B', 2.3), ('C', 4.5), ('D', 5.6)]\n",
      "4.5\n",
      "D\n"
     ]
    }
   ],
   "source": [
    "list_k = ['A', 'B', 'C', 'D']\n",
    "list_v = [1, 2.3, 4.5, 5.6]\n",
    "\n",
    "list_new = list(zip(list_k, list_v))\n",
    "print(list_new)\n",
    "print(list_new[2][1])\n",
    "print(list_new[3][0])"
   ]
  },
  {
   "cell_type": "code",
   "execution_count": 24,
   "id": "1a6af927",
   "metadata": {},
   "outputs": [
    {
     "name": "stdout",
     "output_type": "stream",
     "text": [
      "[('A', 1, 9.0), ('B', 2.3, 89), ('C', 4.5, 7.4), ('D', 5.6, 3.8)]\n"
     ]
    }
   ],
   "source": [
    "list_u = [9.0, 89, 7.4, 3.8]\n",
    "list_new_2 = list(zip(list_k, list_v, list_u))\n",
    "print(list_new_2)"
   ]
  },
  {
   "cell_type": "code",
   "execution_count": 25,
   "id": "2a3c6d45",
   "metadata": {},
   "outputs": [
    {
     "name": "stdout",
     "output_type": "stream",
     "text": [
      "[(('A', 1), 9.0), (('B', 2.3), 89), (('C', 4.5), 7.4), (('D', 5.6), 3.8)]\n"
     ]
    }
   ],
   "source": [
    "list_new_3 = list(zip(list_new, list_u))\n",
    "print(list_new_3)"
   ]
  },
  {
   "cell_type": "code",
   "execution_count": 26,
   "id": "e587d481",
   "metadata": {},
   "outputs": [
    {
     "name": "stdout",
     "output_type": "stream",
     "text": [
      "A\n"
     ]
    }
   ],
   "source": [
    "print(list_new_3[0][0][0])"
   ]
  },
  {
   "cell_type": "code",
   "execution_count": 27,
   "id": "3e22f334",
   "metadata": {},
   "outputs": [
    {
     "name": "stdout",
     "output_type": "stream",
     "text": [
      "[[23, 34, 45, 56], [47, 67, 56], [90, 34]]\n"
     ]
    }
   ],
   "source": [
    "#nested list\n",
    "# It is not necessary that individual lists within the larger list will have same number of elements\n",
    "list_nested_ex_1 = [[23, 34, 45, 56], [47,67,56], [90,34]]\n",
    "print(list_nested_ex_1)"
   ]
  },
  {
   "cell_type": "code",
   "execution_count": 28,
   "id": "116a1410",
   "metadata": {},
   "outputs": [],
   "source": [
    "list_nested_ex_2 = [[[23, 34], [45, 56]], [[47,67],[56]], [[90],[34]]]\n",
    "\n"
   ]
  },
  {
   "cell_type": "code",
   "execution_count": 29,
   "id": "9d5da17b",
   "metadata": {},
   "outputs": [
    {
     "name": "stdout",
     "output_type": "stream",
     "text": [
      "{'A': 1, 'B': 2.3, 'C': 4.5, 'D': 5.6}\n"
     ]
    }
   ],
   "source": [
    "dict_new_ex_1 = dict(zip(list_k, list_v))\n",
    "print(dict_new_ex_1)"
   ]
  },
  {
   "cell_type": "code",
   "execution_count": 30,
   "id": "d6f80bdf",
   "metadata": {},
   "outputs": [
    {
     "name": "stdout",
     "output_type": "stream",
     "text": [
      "{'A': [23, 34, 45, 56], 'B': [47, 67, 56], 'C': [90, 34], 'D': [13, 10, 11]}\n"
     ]
    }
   ],
   "source": [
    "list_nested_ex_2 = [[23, 34, 45, 56], [47,67,56], [90,34], [13, 10, 11]]\n",
    "dict_new_ex_2 = dict(zip(list_k, list_nested_ex_2))\n",
    "print(dict_new_ex_2)"
   ]
  },
  {
   "cell_type": "code",
   "execution_count": 30,
   "id": "0d28dccf",
   "metadata": {},
   "outputs": [],
   "source": []
  }
 ],
 "metadata": {
  "kernelspec": {
   "display_name": "Python 3 (ipykernel)",
   "language": "python",
   "name": "python3"
  },
  "language_info": {
   "codemirror_mode": {
    "name": "ipython",
    "version": 3
   },
   "file_extension": ".py",
   "mimetype": "text/x-python",
   "name": "python",
   "nbconvert_exporter": "python",
   "pygments_lexer": "ipython3",
   "version": "3.11.2"
  }
 },
 "nbformat": 4,
 "nbformat_minor": 5
}
