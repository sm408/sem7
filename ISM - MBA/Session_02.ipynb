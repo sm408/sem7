{
 "cells": [
  {
   "cell_type": "code",
   "execution_count": 1,
   "metadata": {
    "collapsed": true
   },
   "outputs": [
    {
     "name": "stdout",
     "output_type": "stream",
     "text": [
      "Hey\n"
     ]
    }
   ],
   "source": [
    "print(\"Hey\")"
   ]
  },
  {
   "cell_type": "code",
   "execution_count": 2,
   "outputs": [],
   "source": [
    "import numpy as np\n",
    "import pandas as pd"
   ],
   "metadata": {
    "collapsed": false
   }
  },
  {
   "cell_type": "code",
   "execution_count": 9,
   "outputs": [
    {
     "name": "stdout",
     "output_type": "stream",
     "text": [
      "        State/UTs  Agriculture and Allied Activities  Rural Development  \\\n",
      "0    States Total                         3671959.38         3111650.51   \n",
      "1  Andhra Pradesh                          269509.01          549662.55   \n",
      "\n",
      "   Special Area Programmes  Irrigation and Flood Control      Energy  \\\n",
      "0               1534199.92                    7072384.45  5256428.09   \n",
      "1                  1500.00                    1497400.20    41541.80   \n",
      "\n",
      "   Industry and Minerals   Transport  Science Technology and Environment  \\\n",
      "0             1406461.17  5299198.06                            732791.4   \n",
      "1               78409.54   364506.00                             11019.0   \n",
      "\n",
      "   General Economic Services  Social Services  General Services       Total  \n",
      "0                 2625837.74      21781061.66        5488131.62  57980104.0  \n",
      "1                  157093.38       1882005.52          40853.00   4893500.0  \n"
     ]
    }
   ],
   "source": [
    "file1 = \"files/csv_for_glob/Tab_7.3.6_outlay_expenditure.csv\"\n",
    "\n",
    "data1 = pd.read_csv(file1)\n",
    "print(data1.head(2))"
   ],
   "metadata": {
    "collapsed": false
   }
  },
  {
   "cell_type": "code",
   "execution_count": 23,
   "outputs": [
    {
     "name": "stdout",
     "output_type": "stream",
     "text": [
      "0 States Total \t 21781061.66\n",
      "1 Andhra Pradesh \t 1882005.52\n",
      "2 Arunachal Pradesh \t 63230.3\n",
      "3 Assam \t 286267.16\n",
      "4 Bihar \t 1022119.64\n",
      "5 Chattisgarh \t 941385.0\n",
      "6 Goa \t 223616.31\n",
      "7 Gujarat \t 2053374.86\n",
      "8 Haryana \t 819891.0\n",
      "9 Himachal Pradesh \t 123356.0\n",
      "10 Jammu and Kashmir \t 163526.49\n",
      "11 Jharkhand \t 535320.66\n",
      "12 Karnataka \t 1619299.0\n",
      "13 Kerala \t 465013.0\n",
      "14 Madhya Pradesh \t 1107535.81\n",
      "15 Maharashtra \t 2040583.0\n",
      "16 Manipur \t 84157.72\n",
      "17 Meghalaya \t 128825.0\n",
      "18 Mizoram \t 71583.23\n",
      "19 Nagaland \t 60828.0\n",
      "20 Odisha \t 562386.54\n",
      "21 Punjab \t 539475.67\n",
      "22 Rajasthan \t 1081013.18\n",
      "23 Sikkim \t 72627.92\n",
      "24 Tamil Nadu \t 1456807.02\n",
      "25 Tripura \t 80394.89\n",
      "26 Uttar Pradesh \t 2690437.0\n",
      "27 Uttarakhand \t 344834.44\n",
      "28 West Bengal \t 1261167.3\n",
      "29 Union Territories Total \t 1258474.83\n",
      "30 Andaman and Nicobar Islands \t 62963.0\n",
      "31 Chandigarh \t 58436.0\n",
      "32 Dadra and Nagar Haveli \t 19823.0\n",
      "33 Daman and Diu \t 17241.0\n",
      "34 Delhi \t 960550.0\n",
      "35 Lakshadweep \t 16977.0\n",
      "36 Puducherry \t 122484.83\n"
     ]
    }
   ],
   "source": [
    "#print data nad skip first row\n",
    "for index, data in data1.iterrows():\n",
    "    print(index, data[\"State/UTs\"],\"\\t\", data[\"Social Services\"])\n"
   ],
   "metadata": {
    "collapsed": false
   }
  },
  {
   "cell_type": "code",
   "execution_count": 24,
   "outputs": [
    {
     "name": "stdout",
     "output_type": "stream",
     "text": [
      "defaultdict(<class 'list'>, {'Andhra Pradesh': [1882005.52], 'Arunachal Pradesh': [63230.3], 'Assam': [286267.16], 'Bihar': [1022119.64], 'Chattisgarh': [941385.0], 'Goa': [223616.31], 'Gujarat': [2053374.86], 'Haryana': [819891.0], 'Himachal Pradesh': [123356.0], 'Jammu and Kashmir': [163526.49], 'Jharkhand': [535320.66], 'Karnataka': [1619299.0], 'Kerala': [465013.0], 'Madhya Pradesh': [1107535.81], 'Maharashtra': [2040583.0], 'Manipur': [84157.72], 'Meghalaya': [128825.0], 'Mizoram': [71583.23], 'Nagaland': [60828.0], 'Odisha': [562386.54], 'Punjab': [539475.67], 'Rajasthan': [1081013.18], 'Sikkim': [72627.92], 'Tamil Nadu': [1456807.02], 'Tripura': [80394.89], 'Uttar Pradesh': [2690437.0], 'Uttarakhand': [344834.44], 'West Bengal': [1261167.3], 'Union Territories Total': [1258474.83], 'Andaman and Nicobar Islands': [62963.0], 'Chandigarh': [58436.0], 'Dadra and Nagar Haveli': [19823.0], 'Daman and Diu': [17241.0], 'Delhi': [960550.0], 'Lakshadweep': [16977.0], 'Puducherry': [122484.83]})\n"
     ]
    }
   ],
   "source": [
    "from collections import defaultdict\n",
    "\n",
    "dict1 = defaultdict(list)\n",
    "\n",
    "for index, data in data1[1:].iterrows():\n",
    "    dict1[data[\"State/UTs\"]].append(data[\"Social Services\"])\n",
    "\n",
    "print(dict1)"
   ],
   "metadata": {
    "collapsed": false
   }
  },
  {
   "cell_type": "code",
   "execution_count": 28,
   "outputs": [
    {
     "name": "stdout",
     "output_type": "stream",
     "text": [
      "defaultdict(<function <lambda> at 0x000001CAC5C86E60>, {'Andhra Pradesh': defaultdict(<class 'list'>, {'Social Services': [1882005.52], 'Transport': [364506.0]}), 'Arunachal Pradesh': defaultdict(<class 'list'>, {'Social Services': [63230.3], 'Transport': [39413.35]}), 'Assam': defaultdict(<class 'list'>, {'Social Services': [286267.16], 'Transport': [109687.9]}), 'Bihar': defaultdict(<class 'list'>, {'Social Services': [1022119.64], 'Transport': [535370.69]}), 'Chattisgarh': defaultdict(<class 'list'>, {'Social Services': [941385.0], 'Transport': [274074.0]}), 'Goa': defaultdict(<class 'list'>, {'Social Services': [223616.31], 'Transport': [39608.76]}), 'Gujarat': defaultdict(<class 'list'>, {'Social Services': [2053374.86], 'Transport': [501646.0]}), 'Haryana': defaultdict(<class 'list'>, {'Social Services': [819891.0], 'Transport': [146594.0]}), 'Himachal Pradesh': defaultdict(<class 'list'>, {'Social Services': [123356.0], 'Transport': [73693.0]}), 'Jammu and Kashmir': defaultdict(<class 'list'>, {'Social Services': [163526.49], 'Transport': [58867.14]}), 'Jharkhand': defaultdict(<class 'list'>, {'Social Services': [535320.66], 'Transport': [217500.0]}), 'Karnataka': defaultdict(<class 'list'>, {'Social Services': [1619299.0], 'Transport': [448555.0]}), 'Kerala': defaultdict(<class 'list'>, {'Social Services': [465013.0], 'Transport': [119581.0]}), 'Madhya Pradesh': defaultdict(<class 'list'>, {'Social Services': [1107535.81], 'Transport': [361034.01]}), 'Maharashtra': defaultdict(<class 'list'>, {'Social Services': [2040583.0], 'Transport': [557549.0]}), 'Manipur': defaultdict(<class 'list'>, {'Social Services': [84157.72], 'Transport': [6206.0]}), 'Meghalaya': defaultdict(<class 'list'>, {'Social Services': [128825.0], 'Transport': [47356.0]}), 'Mizoram': defaultdict(<class 'list'>, {'Social Services': [71583.23], 'Transport': [33522.6]}), 'Nagaland': defaultdict(<class 'list'>, {'Social Services': [60828.0], 'Transport': [32484.0]}), 'Odisha': defaultdict(<class 'list'>, {'Social Services': [562386.54], 'Transport': [187329.0]}), 'Punjab': defaultdict(<class 'list'>, {'Social Services': [539475.67], 'Transport': [164459.0]}), 'Rajasthan': defaultdict(<class 'list'>, {'Social Services': [1081013.18], 'Transport': [225702.25]}), 'Sikkim': defaultdict(<class 'list'>, {'Social Services': [72627.92], 'Transport': [10980.82]}), 'Tamil Nadu': defaultdict(<class 'list'>, {'Social Services': [1456807.02], 'Transport': [152235.21]}), 'Tripura': defaultdict(<class 'list'>, {'Social Services': [80394.89], 'Transport': [18050.4]}), 'Uttar Pradesh': defaultdict(<class 'list'>, {'Social Services': [2690437.0], 'Transport': [282214.0]}), 'Uttarakhand': defaultdict(<class 'list'>, {'Social Services': [344834.44], 'Transport': [124831.68]}), 'West Bengal': defaultdict(<class 'list'>, {'Social Services': [1261167.3], 'Transport': [166147.25]}), 'Union Territories Total': defaultdict(<class 'list'>, {'Social Services': [1258474.83], 'Transport': [466591.02]}), 'Andaman and Nicobar Islands': defaultdict(<class 'list'>, {'Social Services': [62963.0], 'Transport': [59099.0]}), 'Chandigarh': defaultdict(<class 'list'>, {'Social Services': [58436.0], 'Transport': [6470.0]}), 'Dadra and Nagar Haveli': defaultdict(<class 'list'>, {'Social Services': [19823.0], 'Transport': [13877.0]}), 'Daman and Diu': defaultdict(<class 'list'>, {'Social Services': [17241.0], 'Transport': [22960.0]}), 'Delhi': defaultdict(<class 'list'>, {'Social Services': [960550.0], 'Transport': [337200.0]}), 'Lakshadweep': defaultdict(<class 'list'>, {'Social Services': [16977.0], 'Transport': [10750.0]}), 'Puducherry': defaultdict(<class 'list'>, {'Social Services': [122484.83], 'Transport': [16235.02]})})\n"
     ]
    }
   ],
   "source": [
    "dict_states_headers  = defaultdict(lambda : defaultdict(list))\n",
    "\n",
    "for index, data in data1[1:].iterrows():\n",
    "    #using lambda function to create a new dictionary for each state with a list of values of Social Services and Transport\n",
    "    dict_states_headers[data[\"State/UTs\"]][\"Social Services\"].append(data[\"Social Services\"])\n",
    "    dict_states_headers[data[\"State/UTs\"]][\"Transport\"].append(data[\"Transport\"])\n",
    "\n",
    "print(dict_states_headers)"
   ],
   "metadata": {
    "collapsed": false
   }
  }
 ],
 "metadata": {
  "kernelspec": {
   "display_name": "Python 3",
   "language": "python",
   "name": "python3"
  },
  "language_info": {
   "codemirror_mode": {
    "name": "ipython",
    "version": 2
   },
   "file_extension": ".py",
   "mimetype": "text/x-python",
   "name": "python",
   "nbconvert_exporter": "python",
   "pygments_lexer": "ipython2",
   "version": "2.7.6"
  }
 },
 "nbformat": 4,
 "nbformat_minor": 0
}
