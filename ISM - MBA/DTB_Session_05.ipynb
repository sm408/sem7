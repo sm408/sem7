{
 "cells": [
  {
   "cell_type": "code",
   "execution_count": null,
   "id": "b4a60d53",
   "metadata": {},
   "outputs": [],
   "source": [
    "from snakebite.client import Client\n",
    "client = Client('localhost', 9000)\n"
   ]
  },
  {
   "cell_type": "code",
   "execution_count": null,
   "id": "bfe5b0a0",
   "metadata": {},
   "outputs": [],
   "source": [
    "for x in client.ls(['/']):\n",
    "    print(x)"
   ]
  },
  {
   "cell_type": "code",
   "execution_count": null,
   "id": "19df772e",
   "metadata": {},
   "outputs": [],
   "source": [
    "\n",
    "for p in client.mkdir(['/user1', '/input'], create_parent=True):\n",
    "    print(p)"
   ]
  },
  {
   "cell_type": "code",
   "execution_count": null,
   "id": "2ccbd185",
   "metadata": {},
   "outputs": [],
   "source": []
  },
  {
   "cell_type": "code",
   "execution_count": null,
   "id": "dbb97517",
   "metadata": {},
   "outputs": [],
   "source": [
    "for x in client.ls(['/user1/gutenberg/']):\n",
    "    print(x)"
   ]
  },
  {
   "cell_type": "code",
   "execution_count": null,
   "id": "98a09af1",
   "metadata": {},
   "outputs": [],
   "source": [
    "for tl in client.text(['/user1/gutenberg/pg20417.txt']):\n",
    "    print(tl)"
   ]
  },
  {
   "cell_type": "code",
   "execution_count": null,
   "id": "f7d4bce6",
   "metadata": {},
   "outputs": [],
   "source": [
    "# for f in client.copyToLocal(['/user1/input.txt'], '/tmp'):\n",
    "#     print(f)"
   ]
  },
  {
   "cell_type": "code",
   "execution_count": null,
   "id": "86d6d786",
   "metadata": {},
   "outputs": [],
   "source": [
    "for p in client.delete(['/input'], recurse=True):\n",
    "    print(p)"
   ]
  },
  {
   "cell_type": "code",
   "execution_count": 5,
   "outputs": [],
   "source": [
    "from matplotlib import pylab\n",
    "from pylab import *"
   ],
   "metadata": {
    "collapsed": false
   }
  },
  {
   "cell_type": "code",
   "execution_count": null,
   "outputs": [],
   "source": [],
   "metadata": {
    "collapsed": false
   }
  }
 ],
 "metadata": {
  "kernelspec": {
   "display_name": "Python 3 (ipykernel)",
   "language": "python",
   "name": "python3"
  },
  "language_info": {
   "codemirror_mode": {
    "name": "ipython",
    "version": 3
   },
   "file_extension": ".py",
   "mimetype": "text/x-python",
   "name": "python",
   "nbconvert_exporter": "python",
   "pygments_lexer": "ipython3",
   "version": "3.11.2"
  }
 },
 "nbformat": 4,
 "nbformat_minor": 5
}
