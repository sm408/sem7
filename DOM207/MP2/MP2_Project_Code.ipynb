{
 "cells": [
  {
   "cell_type": "code",
   "execution_count": 1,
   "id": "47181c4f",
   "metadata": {},
   "outputs": [],
   "source": [
    "import pandas as pd\n",
    "import statsmodels.api as sm"
   ]
  },
  {
   "cell_type": "code",
   "execution_count": 2,
   "id": "4ef9e21a",
   "metadata": {},
   "outputs": [],
   "source": [
    "df = pd.read_excel('SalaryData.xlsx')"
   ]
  },
  {
   "cell_type": "code",
   "execution_count": 3,
   "id": "17bd4b10",
   "metadata": {},
   "outputs": [
    {
     "data": {
      "text/html": [
       "<div>\n",
       "<style scoped>\n",
       "    .dataframe tbody tr th:only-of-type {\n",
       "        vertical-align: middle;\n",
       "    }\n",
       "\n",
       "    .dataframe tbody tr th {\n",
       "        vertical-align: top;\n",
       "    }\n",
       "\n",
       "    .dataframe thead th {\n",
       "        text-align: right;\n",
       "    }\n",
       "</style>\n",
       "<table border=\"1\" class=\"dataframe\">\n",
       "  <thead>\n",
       "    <tr style=\"text-align: right;\">\n",
       "      <th></th>\n",
       "      <th>Id</th>\n",
       "      <th>Salary</th>\n",
       "      <th>Age</th>\n",
       "      <th>College</th>\n",
       "      <th>Grad</th>\n",
       "      <th>Tenure</th>\n",
       "      <th>CeoTen</th>\n",
       "      <th>Sales</th>\n",
       "      <th>Profits</th>\n",
       "      <th>Mktval</th>\n",
       "      <th>Profmarg</th>\n",
       "    </tr>\n",
       "  </thead>\n",
       "  <tbody>\n",
       "    <tr>\n",
       "      <th>0</th>\n",
       "      <td>1</td>\n",
       "      <td>1161</td>\n",
       "      <td>49</td>\n",
       "      <td>1</td>\n",
       "      <td>1</td>\n",
       "      <td>9</td>\n",
       "      <td>2</td>\n",
       "      <td>6200</td>\n",
       "      <td>966</td>\n",
       "      <td>23200</td>\n",
       "      <td>15.580650</td>\n",
       "    </tr>\n",
       "    <tr>\n",
       "      <th>1</th>\n",
       "      <td>2</td>\n",
       "      <td>600</td>\n",
       "      <td>43</td>\n",
       "      <td>1</td>\n",
       "      <td>1</td>\n",
       "      <td>10</td>\n",
       "      <td>10</td>\n",
       "      <td>283</td>\n",
       "      <td>48</td>\n",
       "      <td>1100</td>\n",
       "      <td>16.961130</td>\n",
       "    </tr>\n",
       "    <tr>\n",
       "      <th>2</th>\n",
       "      <td>3</td>\n",
       "      <td>379</td>\n",
       "      <td>51</td>\n",
       "      <td>1</td>\n",
       "      <td>1</td>\n",
       "      <td>9</td>\n",
       "      <td>3</td>\n",
       "      <td>169</td>\n",
       "      <td>40</td>\n",
       "      <td>1100</td>\n",
       "      <td>23.668640</td>\n",
       "    </tr>\n",
       "    <tr>\n",
       "      <th>3</th>\n",
       "      <td>4</td>\n",
       "      <td>651</td>\n",
       "      <td>55</td>\n",
       "      <td>1</td>\n",
       "      <td>0</td>\n",
       "      <td>22</td>\n",
       "      <td>22</td>\n",
       "      <td>1100</td>\n",
       "      <td>-54</td>\n",
       "      <td>1000</td>\n",
       "      <td>-4.909091</td>\n",
       "    </tr>\n",
       "    <tr>\n",
       "      <th>4</th>\n",
       "      <td>5</td>\n",
       "      <td>497</td>\n",
       "      <td>44</td>\n",
       "      <td>1</td>\n",
       "      <td>1</td>\n",
       "      <td>8</td>\n",
       "      <td>6</td>\n",
       "      <td>351</td>\n",
       "      <td>28</td>\n",
       "      <td>387</td>\n",
       "      <td>7.977208</td>\n",
       "    </tr>\n",
       "  </tbody>\n",
       "</table>\n",
       "</div>"
      ],
      "text/plain": [
       "   Id  Salary  Age  College  Grad  Tenure  CeoTen  Sales  Profits  Mktval  \\\n",
       "0   1    1161   49        1     1       9       2   6200      966   23200   \n",
       "1   2     600   43        1     1      10      10    283       48    1100   \n",
       "2   3     379   51        1     1       9       3    169       40    1100   \n",
       "3   4     651   55        1     0      22      22   1100      -54    1000   \n",
       "4   5     497   44        1     1       8       6    351       28     387   \n",
       "\n",
       "    Profmarg  \n",
       "0  15.580650  \n",
       "1  16.961130  \n",
       "2  23.668640  \n",
       "3  -4.909091  \n",
       "4   7.977208  "
      ]
     },
     "execution_count": 3,
     "metadata": {},
     "output_type": "execute_result"
    }
   ],
   "source": [
    "df.head()"
   ]
  },
  {
   "cell_type": "code",
   "execution_count": 4,
   "id": "53b1843f",
   "metadata": {},
   "outputs": [
    {
     "data": {
      "text/plain": [
       "(177, 11)"
      ]
     },
     "execution_count": 4,
     "metadata": {},
     "output_type": "execute_result"
    }
   ],
   "source": [
    "df.shape"
   ]
  },
  {
   "cell_type": "code",
   "execution_count": 5,
   "id": "e2160e78",
   "metadata": {},
   "outputs": [
    {
     "data": {
      "text/plain": [
       "Id            int64\n",
       "Salary        int64\n",
       "Age           int64\n",
       "College       int64\n",
       "Grad          int64\n",
       "Tenure        int64\n",
       "CeoTen        int64\n",
       "Sales         int64\n",
       "Profits       int64\n",
       "Mktval        int64\n",
       "Profmarg    float64\n",
       "dtype: object"
      ]
     },
     "execution_count": 5,
     "metadata": {},
     "output_type": "execute_result"
    }
   ],
   "source": [
    "df.dtypes"
   ]
  },
  {
   "cell_type": "code",
   "execution_count": 6,
   "id": "38377d30",
   "metadata": {},
   "outputs": [
    {
     "name": "stdout",
     "output_type": "stream",
     "text": [
      "<class 'pandas.core.frame.DataFrame'>\n",
      "RangeIndex: 177 entries, 0 to 176\n",
      "Data columns (total 11 columns):\n",
      " #   Column    Non-Null Count  Dtype  \n",
      "---  ------    --------------  -----  \n",
      " 0   Id        177 non-null    int64  \n",
      " 1   Salary    177 non-null    int64  \n",
      " 2   Age       177 non-null    int64  \n",
      " 3   College   177 non-null    int64  \n",
      " 4   Grad      177 non-null    int64  \n",
      " 5   Tenure    177 non-null    int64  \n",
      " 6   CeoTen    177 non-null    int64  \n",
      " 7   Sales     177 non-null    int64  \n",
      " 8   Profits   177 non-null    int64  \n",
      " 9   Mktval    177 non-null    int64  \n",
      " 10  Profmarg  177 non-null    float64\n",
      "dtypes: float64(1), int64(10)\n",
      "memory usage: 15.3 KB\n"
     ]
    }
   ],
   "source": [
    "df.info()"
   ]
  },
  {
   "cell_type": "code",
   "execution_count": 14,
   "id": "c4ebfacf",
   "metadata": {},
   "outputs": [
    {
     "data": {
      "text/plain": [
       "0"
      ]
     },
     "execution_count": 14,
     "metadata": {},
     "output_type": "execute_result"
    }
   ],
   "source": [
    "# duplicate values\n",
    "df.duplicated().sum()"
   ]
  },
  {
   "cell_type": "code",
   "execution_count": 15,
   "id": "bc23a780",
   "metadata": {},
   "outputs": [
    {
     "data": {
      "text/plain": [
       "Id          177\n",
       "Salary      166\n",
       "Age          39\n",
       "College       2\n",
       "Grad          2\n",
       "Tenure       45\n",
       "CeoTen       28\n",
       "Sales       134\n",
       "Profits     132\n",
       "Mktval      128\n",
       "Profmarg    175\n",
       "dtype: int64"
      ]
     },
     "execution_count": 15,
     "metadata": {},
     "output_type": "execute_result"
    }
   ],
   "source": [
    "df.nunique()"
   ]
  },
  {
   "cell_type": "code",
   "execution_count": 7,
   "id": "467aac1a",
   "metadata": {},
   "outputs": [
    {
     "data": {
      "text/html": [
       "<div>\n",
       "<style scoped>\n",
       "    .dataframe tbody tr th:only-of-type {\n",
       "        vertical-align: middle;\n",
       "    }\n",
       "\n",
       "    .dataframe tbody tr th {\n",
       "        vertical-align: top;\n",
       "    }\n",
       "\n",
       "    .dataframe thead th {\n",
       "        text-align: right;\n",
       "    }\n",
       "</style>\n",
       "<table border=\"1\" class=\"dataframe\">\n",
       "  <thead>\n",
       "    <tr style=\"text-align: right;\">\n",
       "      <th></th>\n",
       "      <th>Id</th>\n",
       "      <th>Salary</th>\n",
       "      <th>Age</th>\n",
       "      <th>College</th>\n",
       "      <th>Grad</th>\n",
       "      <th>Tenure</th>\n",
       "      <th>CeoTen</th>\n",
       "      <th>Sales</th>\n",
       "      <th>Profits</th>\n",
       "      <th>Mktval</th>\n",
       "      <th>Profmarg</th>\n",
       "    </tr>\n",
       "  </thead>\n",
       "  <tbody>\n",
       "    <tr>\n",
       "      <th>count</th>\n",
       "      <td>177.000000</td>\n",
       "      <td>177.000000</td>\n",
       "      <td>177.000000</td>\n",
       "      <td>177.000000</td>\n",
       "      <td>177.000000</td>\n",
       "      <td>177.000000</td>\n",
       "      <td>177.000000</td>\n",
       "      <td>177.000000</td>\n",
       "      <td>177.000000</td>\n",
       "      <td>177.000000</td>\n",
       "      <td>177.000000</td>\n",
       "    </tr>\n",
       "    <tr>\n",
       "      <th>mean</th>\n",
       "      <td>89.000000</td>\n",
       "      <td>865.864407</td>\n",
       "      <td>56.429379</td>\n",
       "      <td>0.971751</td>\n",
       "      <td>0.531073</td>\n",
       "      <td>22.502825</td>\n",
       "      <td>7.954802</td>\n",
       "      <td>3529.463277</td>\n",
       "      <td>207.830508</td>\n",
       "      <td>3600.316384</td>\n",
       "      <td>6.420111</td>\n",
       "    </tr>\n",
       "    <tr>\n",
       "      <th>std</th>\n",
       "      <td>51.239633</td>\n",
       "      <td>587.589281</td>\n",
       "      <td>8.421890</td>\n",
       "      <td>0.166152</td>\n",
       "      <td>0.500449</td>\n",
       "      <td>12.294735</td>\n",
       "      <td>7.150826</td>\n",
       "      <td>6088.654193</td>\n",
       "      <td>404.454296</td>\n",
       "      <td>6442.276020</td>\n",
       "      <td>17.860742</td>\n",
       "    </tr>\n",
       "    <tr>\n",
       "      <th>min</th>\n",
       "      <td>1.000000</td>\n",
       "      <td>100.000000</td>\n",
       "      <td>33.000000</td>\n",
       "      <td>0.000000</td>\n",
       "      <td>0.000000</td>\n",
       "      <td>2.000000</td>\n",
       "      <td>0.000000</td>\n",
       "      <td>29.000000</td>\n",
       "      <td>-463.000000</td>\n",
       "      <td>387.000000</td>\n",
       "      <td>-203.076900</td>\n",
       "    </tr>\n",
       "    <tr>\n",
       "      <th>25%</th>\n",
       "      <td>45.000000</td>\n",
       "      <td>471.000000</td>\n",
       "      <td>52.000000</td>\n",
       "      <td>1.000000</td>\n",
       "      <td>0.000000</td>\n",
       "      <td>12.000000</td>\n",
       "      <td>3.000000</td>\n",
       "      <td>561.000000</td>\n",
       "      <td>34.000000</td>\n",
       "      <td>644.000000</td>\n",
       "      <td>4.230769</td>\n",
       "    </tr>\n",
       "    <tr>\n",
       "      <th>50%</th>\n",
       "      <td>89.000000</td>\n",
       "      <td>707.000000</td>\n",
       "      <td>57.000000</td>\n",
       "      <td>1.000000</td>\n",
       "      <td>1.000000</td>\n",
       "      <td>23.000000</td>\n",
       "      <td>6.000000</td>\n",
       "      <td>1400.000000</td>\n",
       "      <td>63.000000</td>\n",
       "      <td>1200.000000</td>\n",
       "      <td>6.833713</td>\n",
       "    </tr>\n",
       "    <tr>\n",
       "      <th>75%</th>\n",
       "      <td>133.000000</td>\n",
       "      <td>1119.000000</td>\n",
       "      <td>62.000000</td>\n",
       "      <td>1.000000</td>\n",
       "      <td>1.000000</td>\n",
       "      <td>33.000000</td>\n",
       "      <td>11.000000</td>\n",
       "      <td>3500.000000</td>\n",
       "      <td>208.000000</td>\n",
       "      <td>3500.000000</td>\n",
       "      <td>10.947370</td>\n",
       "    </tr>\n",
       "    <tr>\n",
       "      <th>max</th>\n",
       "      <td>177.000000</td>\n",
       "      <td>5299.000000</td>\n",
       "      <td>86.000000</td>\n",
       "      <td>1.000000</td>\n",
       "      <td>1.000000</td>\n",
       "      <td>58.000000</td>\n",
       "      <td>37.000000</td>\n",
       "      <td>51300.000000</td>\n",
       "      <td>2700.000000</td>\n",
       "      <td>45400.000000</td>\n",
       "      <td>47.457630</td>\n",
       "    </tr>\n",
       "  </tbody>\n",
       "</table>\n",
       "</div>"
      ],
      "text/plain": [
       "               Id       Salary         Age     College        Grad  \\\n",
       "count  177.000000   177.000000  177.000000  177.000000  177.000000   \n",
       "mean    89.000000   865.864407   56.429379    0.971751    0.531073   \n",
       "std     51.239633   587.589281    8.421890    0.166152    0.500449   \n",
       "min      1.000000   100.000000   33.000000    0.000000    0.000000   \n",
       "25%     45.000000   471.000000   52.000000    1.000000    0.000000   \n",
       "50%     89.000000   707.000000   57.000000    1.000000    1.000000   \n",
       "75%    133.000000  1119.000000   62.000000    1.000000    1.000000   \n",
       "max    177.000000  5299.000000   86.000000    1.000000    1.000000   \n",
       "\n",
       "           Tenure      CeoTen         Sales      Profits        Mktval  \\\n",
       "count  177.000000  177.000000    177.000000   177.000000    177.000000   \n",
       "mean    22.502825    7.954802   3529.463277   207.830508   3600.316384   \n",
       "std     12.294735    7.150826   6088.654193   404.454296   6442.276020   \n",
       "min      2.000000    0.000000     29.000000  -463.000000    387.000000   \n",
       "25%     12.000000    3.000000    561.000000    34.000000    644.000000   \n",
       "50%     23.000000    6.000000   1400.000000    63.000000   1200.000000   \n",
       "75%     33.000000   11.000000   3500.000000   208.000000   3500.000000   \n",
       "max     58.000000   37.000000  51300.000000  2700.000000  45400.000000   \n",
       "\n",
       "         Profmarg  \n",
       "count  177.000000  \n",
       "mean     6.420111  \n",
       "std     17.860742  \n",
       "min   -203.076900  \n",
       "25%      4.230769  \n",
       "50%      6.833713  \n",
       "75%     10.947370  \n",
       "max     47.457630  "
      ]
     },
     "execution_count": 7,
     "metadata": {},
     "output_type": "execute_result"
    }
   ],
   "source": [
    "# descriptive statistics\n",
    "\n",
    "df.describe()"
   ]
  },
  {
   "cell_type": "code",
   "execution_count": 8,
   "id": "e3f6fe2e",
   "metadata": {},
   "outputs": [
    {
     "name": "stdout",
     "output_type": "stream",
     "text": [
      "\n",
      "Skewness:\n",
      "Id          0.000000\n",
      "Salary      3.024293\n",
      "Age         0.048273\n",
      "College    -5.743441\n",
      "Grad       -0.125601\n",
      "Tenure      0.024554\n",
      "CeoTen      1.653719\n",
      "Sales       4.206571\n",
      "Profits     3.193948\n",
      "Mktval      3.917555\n",
      "Profmarg   -9.363354\n",
      "dtype: float64\n",
      "\n",
      "Kurtosis:\n",
      "Id           -1.200000\n",
      "Salary       17.937717\n",
      "Age           0.646587\n",
      "College      31.341146\n",
      "Grad         -2.007032\n",
      "Tenure       -0.989074\n",
      "CeoTen        3.207625\n",
      "Sales        24.287103\n",
      "Profits      12.259330\n",
      "Mktval       18.632181\n",
      "Profmarg    109.055325\n",
      "dtype: float64\n"
     ]
    }
   ],
   "source": [
    "# skewness\n",
    "\n",
    "skewness = df.skew()\n",
    "kurtosis = df.kurtosis()\n",
    "\n",
    "print(\"\\nSkewness:\")\n",
    "print(skewness)\n",
    "\n",
    "print(\"\\nKurtosis:\")\n",
    "print(kurtosis)"
   ]
  },
  {
   "cell_type": "code",
   "execution_count": 9,
   "id": "680a250c",
   "metadata": {},
   "outputs": [
    {
     "name": "stdout",
     "output_type": "stream",
     "text": [
      "  Variable        VIF\n",
      "0      Age  27.022335\n",
      "1  College  19.610069\n",
      "2     Grad   2.359112\n",
      "3   Tenure   5.982113\n",
      "4    Sales   3.740765\n",
      "5  Profits   9.690844\n",
      "6   Mktval   8.512805\n"
     ]
    }
   ],
   "source": [
    "# multicollinarity and VIF\n",
    "from statsmodels.stats.outliers_influence import variance_inflation_factor\n",
    "X = df[['Age', 'College', 'Grad', 'Tenure', 'Sales', 'Profits', 'Mktval']]\n",
    "vif = pd.DataFrame()\n",
    "vif[\"Variable\"] = X.columns\n",
    "vif[\"VIF\"] = [variance_inflation_factor(X.values, i) for i in range(X.shape[1])]\n",
    "print(vif)\n"
   ]
  },
  {
   "cell_type": "code",
   "execution_count": 10,
   "id": "7b3d85e3",
   "metadata": {},
   "outputs": [
    {
     "name": "stdout",
     "output_type": "stream",
     "text": [
      "White Test for Heteroskedasticity:\n",
      "T-statistic: 6.6744521028846115\n",
      "P-value for the T-statistic: 0.9998110070590898\n",
      "F-statistic: 0.24818079558135225\n",
      "P-value for the F-statistic: 0.9998946494190271\n",
      "                            OLS Regression Results                            \n",
      "==============================================================================\n",
      "Dep. Variable:                 Salary   R-squared:                       0.184\n",
      "Model:                            OLS   Adj. R-squared:                  0.155\n",
      "Method:                 Least Squares   F-statistic:                     6.383\n",
      "Date:                Mon, 30 Oct 2023   Prob (F-statistic):           4.43e-06\n",
      "Time:                        01:28:03   Log-Likelihood:                -1361.2\n",
      "No. Observations:                 177   AIC:                             2736.\n",
      "Df Residuals:                     170   BIC:                             2759.\n",
      "Df Model:                           6                                         \n",
      "Covariance Type:            nonrobust                                         \n",
      "==============================================================================\n",
      "                 coef    std err          t      P>|t|      [0.025      0.975]\n",
      "------------------------------------------------------------------------------\n",
      "const        966.6847    268.327      3.603      0.000     437.003    1496.366\n",
      "College     -184.1813    251.410     -0.733      0.465    -680.470     312.107\n",
      "Grad         -59.6372     85.707     -0.696      0.487    -228.825     109.551\n",
      "Tenure        -1.8793      3.477     -0.541      0.590      -8.743       4.984\n",
      "Sales          0.0160      0.011      1.431      0.154      -0.006       0.038\n",
      "Profits        0.0217      0.279      0.078      0.938      -0.528       0.572\n",
      "Mktval         0.0253      0.016      1.576      0.117      -0.006       0.057\n",
      "==============================================================================\n",
      "Omnibus:                      190.574   Durbin-Watson:                   2.210\n",
      "Prob(Omnibus):                  0.000   Jarque-Bera (JB):             6725.627\n",
      "Skew:                           4.016   Prob(JB):                         0.00\n",
      "Kurtosis:                      32.111   Cond. No.                     8.61e+04\n",
      "==============================================================================\n",
      "\n",
      "Notes:\n",
      "[1] Standard Errors assume that the covariance matrix of the errors is correctly specified.\n",
      "[2] The condition number is large, 8.61e+04. This might indicate that there are\n",
      "strong multicollinearity or other numerical problems.\n"
     ]
    }
   ],
   "source": [
    "# regression model, white test\n",
    "\n",
    "import statsmodels.api as sm\n",
    "from statsmodels.stats.diagnostic import het_white\n",
    "\n",
    "X = df[['College', 'Grad', 'Tenure', 'Sales', 'Profits', 'Mktval']]\n",
    "Y = df['Salary']\n",
    "\n",
    "X = sm.add_constant(X)\n",
    "\n",
    "model = sm.OLS(Y, X).fit()\n",
    "white_test = het_white(model.resid, X)\n",
    "t_stat, p_value, f_stat, f_p_value = white_test\n",
    "print(\"White Test for Heteroskedasticity:\")\n",
    "print(f\"T-statistic: {t_stat}\")\n",
    "print(f\"P-value for the T-statistic: {p_value}\")\n",
    "print(f\"F-statistic: {f_stat}\")\n",
    "print(f\"P-value for the F-statistic: {f_p_value}\")\n",
    "print(model.summary())\n"
   ]
  },
  {
   "cell_type": "code",
   "execution_count": 12,
   "id": "e6d5cc13",
   "metadata": {},
   "outputs": [
    {
     "data": {
      "text/plain": [
       "Text(0.5, 1.0, 'Scatter Plot of Salary vs. Sales')"
      ]
     },
     "execution_count": 12,
     "metadata": {},
     "output_type": "execute_result"
    },
    {
     "data": {
      "image/png": "[encoded data removed]",
      "text/plain": [
       "<Figure size 600x400 with 1 Axes>"
      ]
     },
     "metadata": {},
     "output_type": "display_data"
    }
   ],
   "source": [
    "# scatter plot between 'Salary' and 'Sales'\n",
    "import matplotlib.pyplot as plt\n",
    "import seaborn as sns\n",
    "\n",
    "plt.figure(figsize=(6, 4))\n",
    "sns.scatterplot(data=df, x='Sales', y='Salary')\n",
    "plt.title('Scatter Plot of Salary vs. Sales')"
   ]
  },
  {
   "cell_type": "code",
   "execution_count": 13,
   "id": "647b86a5",
   "metadata": {},
   "outputs": [
    {
     "data": {
      "image/png": "[encoded data removed]",
      "text/plain": [
       "<Figure size 600x400 with 1 Axes>"
      ]
     },
     "metadata": {},
     "output_type": "display_data"
    }
   ],
   "source": [
    "# bar chart for 'College' vs. 'Salary'\n",
    "college_salary = df.groupby('College')['Salary'].mean()\n",
    "plt.figure(figsize=(6, 4))\n",
    "college_salary.plot(kind='bar', color=['lightcoral', 'lightblue'])\n",
    "plt.title('Average Salary by College Attended')\n",
    "plt.xlabel('College Attended')\n",
    "plt.ylabel('Average Salary')\n",
    "\n",
    "# Show the plots\n",
    "plt.tight_layout()\n",
    "plt.show()"
   ]
  },
  {
   "cell_type": "code",
   "execution_count": null,
   "id": "fcee46c2",
   "metadata": {},
   "outputs": [],
   "source": []
  }
 ],
 "metadata": {
  "kernelspec": {
   "display_name": "Python 3 (ipykernel)",
   "language": "python",
   "name": "python3"
  },
  "language_info": {
   "codemirror_mode": {
    "name": "ipython",
    "version": 3
   },
   "file_extension": ".py",
   "mimetype": "text/x-python",
   "name": "python",
   "nbconvert_exporter": "python",
   "pygments_lexer": "ipython3",
   "version": "3.11.4"
  }
 },
 "nbformat": 4,
 "nbformat_minor": 5
}
