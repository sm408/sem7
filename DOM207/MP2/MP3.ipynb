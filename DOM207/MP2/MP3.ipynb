{
 "cells": [
  {
   "cell_type": "code",
   "execution_count": 4,
   "id": "834ac789",
   "metadata": {},
   "outputs": [],
   "source": [
    "import pandas as pd\n",
    "from sklearn import linear_model\n",
    "from sklearn.preprocessing import StandardScaler\n",
    "import numpy as np\n",
    "import matplotlib.pyplot as plt\n",
    "from scipy.stats import ttest_ind\n",
    "from statsmodels.stats import weightstats as stests"
   ]
  },
  {
   "cell_type": "code",
   "execution_count": 5,
   "id": "adb431c2",
   "metadata": {},
   "outputs": [],
   "source": [
    "df = pd.read_excel(\"SalaryData.xlsx\")"
   ]
  },
  {
   "cell_type": "code",
   "execution_count": 6,
   "id": "8f3dd371",
   "metadata": {},
   "outputs": [],
   "source": [
    "X = df[['Age', 'Sales', 'Profits', 'Mktval', 'Profmarg']]"
   ]
  },
  {
   "cell_type": "code",
   "execution_count": 7,
   "id": "dfed6297",
   "metadata": {},
   "outputs": [],
   "source": [
    "y = df['Salary']"
   ]
  },
  {
   "cell_type": "code",
   "execution_count": 8,
   "id": "6421257a",
   "metadata": {},
   "outputs": [
    {
     "name": "stdout",
     "output_type": "stream",
     "text": [
      "[1352.63126529]\n"
     ]
    },
    {
     "name": "stderr",
     "output_type": "stream",
     "text": [
      "c:\\Users\\sm915\\PycharmProjects\\sem7\\venv\\Lib\\site-packages\\sklearn\\base.py:465: UserWarning: X does not have valid feature names, but LinearRegression was fitted with feature names\n",
      "  warnings.warn(\n"
     ]
    }
   ],
   "source": [
    "regr = linear_model.LinearRegression()\n",
    "regr.fit(X,y)\n",
    "\n",
    "#predict the salary of the CEO where the Sales are 6200, profits are 966, Mktval is 23200, and proftmarg is 15.58065\n",
    "predictedSalary = regr.predict([[49, 6200, 966, 23200, 15.58065]])\n",
    "\n",
    "print(predictedSalary)"
   ]
  },
  {
   "cell_type": "code",
   "execution_count": 9,
   "id": "75b0739b",
   "metadata": {},
   "outputs": [
    {
     "name": "stdout",
     "output_type": "stream",
     "text": [
      "[ 4.56986058  0.0138669   0.07296886  0.02262956 -1.65589272]\n"
     ]
    }
   ],
   "source": [
    "# finding the coefficient\n",
    "# we can ask for the coefficient value of sales, profits, mktval and profmrg against salary. The answer(s) \n",
    "# we get tells us what would happen if we increase, or decrease, one of the independent values.\n",
    "print(regr.coef_)"
   ]
  },
  {
   "cell_type": "code",
   "execution_count": 10,
   "id": "faf7c12d",
   "metadata": {},
   "outputs": [
    {
     "name": "stdout",
     "output_type": "stream",
     "text": [
      "[673.77714023]\n"
     ]
    },
    {
     "name": "stderr",
     "output_type": "stream",
     "text": [
      "c:\\Users\\sm915\\PycharmProjects\\sem7\\venv\\Lib\\site-packages\\sklearn\\base.py:465: UserWarning: X does not have valid feature names, but LinearRegression was fitted with feature names\n",
      "  warnings.warn(\n"
     ]
    }
   ],
   "source": [
    "# what if we alter the values \n",
    "predictedSalary = regr.predict([[43, 283, 48, 1100, 16.96113]])\n",
    "\n",
    "print(predictedSalary)"
   ]
  },
  {
   "cell_type": "code",
   "execution_count": 11,
   "id": "e3f8796a",
   "metadata": {},
   "outputs": [
    {
     "name": "stdout",
     "output_type": "stream",
     "text": [
      "[882.37198266]\n"
     ]
    },
    {
     "name": "stderr",
     "output_type": "stream",
     "text": [
      "c:\\Users\\sm915\\PycharmProjects\\sem7\\venv\\Lib\\site-packages\\sklearn\\base.py:465: UserWarning: X does not have valid feature names, but LinearRegression was fitted with feature names\n",
      "  warnings.warn(\n"
     ]
    }
   ],
   "source": [
    "# predicting for one more employee\n",
    "predictedSalary = regr.predict([[63, 4800, 191, 2100, 3.979167]])\n",
    "\n",
    "print(predictedSalary)"
   ]
  },
  {
   "cell_type": "code",
   "execution_count": 12,
   "id": "5714931f",
   "metadata": {},
   "outputs": [
    {
     "name": "stdout",
     "output_type": "stream",
     "text": [
      "[[-8.84653594e-01  4.39852986e-01  1.87986711e+00  3.05098471e+00\n",
      "   5.14341824e-01]\n",
      " [-1.59910387e+00 -5.34711451e-01 -3.96296765e-01 -3.89211745e-01\n",
      "   5.91852390e-01]\n",
      " [-6.46503501e-01 -5.53487917e-01 -4.16132616e-01 -3.89211745e-01\n",
      "   9.68462626e-01]\n",
      " [-1.70203315e-01 -4.00146782e-01 -6.49203863e-01 -4.04778245e-01\n",
      "  -6.36106880e-01]\n",
      " [-1.48002883e+00 -5.23511454e-01 -4.45886392e-01 -5.00200889e-01\n",
      "   8.74272038e-02]\n",
      " [ 9.01472104e-01  2.54808770e+00  1.00708968e+00  4.66502495e-02\n",
      "  -1.79028225e-01]\n",
      " [ 3.06096871e-01 -4.93040875e-01 -4.55804317e-01 -4.63463950e-01\n",
      "  -1.09066528e-01]\n",
      " [ 7.82397057e-01  2.09264814e-01 -4.17309319e-02 -2.33546747e-01\n",
      "  -1.37052993e-01]\n",
      " [-1.12280369e+00 -4.80852643e-01 -4.97955500e-01 -4.89771334e-01\n",
      "  -2.96041848e-01]\n",
      " [ 9.01472104e-01 -1.03676276e-01  5.49688408e-02  4.66502495e-02\n",
      "   8.48347031e-02]\n",
      " [-2.89278362e-01 -3.83676199e-01 -4.31009504e-01 -4.77473799e-01\n",
      "  -2.01388762e-01]\n",
      " [ 1.13962220e+00 -4.89087934e-01 -4.95476019e-01 -4.86191039e-01\n",
      "  -2.80262703e-01]\n",
      " [ 1.85407248e+00 -4.50217357e-01 -4.28530023e-01 -4.54902375e-01\n",
      "  -1.13593537e-01]\n",
      " [-6.46503501e-01  7.69264660e-01  6.48867662e-02  3.26847246e-01\n",
      "  -2.00247563e-01]\n",
      " [ 7.82397057e-01  1.26911896e-01 -2.89679067e-01 -3.42512246e-01\n",
      "  -2.41649585e-01]\n",
      " [-1.48002883e+00 -5.59087915e-01 -4.55804317e-01 -4.73582174e-01\n",
      "   6.37705285e-01]\n",
      " [ 1.37777229e+00 -3.67205615e-01 -3.78940396e-01 -4.28594990e-01\n",
      "  -1.22926158e-01]\n",
      " [ 1.73499743e+00 -4.70311469e-01 -2.30171515e-01 -3.73645246e-01\n",
      "   5.97533399e-01]\n",
      " [ 1.85407248e+00 -3.50735031e-01 -3.44227657e-01 -4.65643260e-01\n",
      "  -8.37462866e-02]\n",
      " [ 1.87021824e-01 -4.00146782e-01 -3.44227657e-01 -4.23458045e-01\n",
      "  -8.27522392e-03]\n",
      " [ 4.25171918e-01 -2.02499778e-01  5.37921378e-03 -2.17980247e-01\n",
      "   1.52178071e-01]\n",
      " [ 3.06096871e-01 -4.35723243e-01 -3.14473880e-01 -3.26945746e-01\n",
      "   1.54000677e-01]\n",
      " [-2.89278362e-01 -3.17793864e-01 -3.67719692e-02 -6.23152492e-02\n",
      "   3.16806330e-01]\n",
      " [-6.46503501e-01 -5.68476148e-01 -4.83078612e-01 -4.89148674e-01\n",
      "   5.75319183e-01]\n",
      " [-5.11282686e-02  1.18102925e+00  2.16135129e-01  3.57980246e-01\n",
      "  -2.05674167e-01]\n",
      " [-7.65578548e-01 -5.65017325e-01 -4.53324836e-01 -2.02413748e-01\n",
      "   1.05739416e+00]\n",
      " [ 1.87021824e-01  4.45589774e-02  4.50509154e-02 -2.80246247e-01\n",
      "  -2.65432777e-02]\n",
      " [-1.59910387e+00 -5.56617328e-01 -4.45886392e-01 -4.49454100e-01\n",
      "   6.87614278e-01]\n",
      " [-5.11282686e-02 -2.18970362e-01 -5.90873013e-02 -3.26945746e-01\n",
      "   1.09124188e-01]\n",
      " [ 2.44944771e+00  5.55147072e-01  6.82277622e-01  1.71182248e-01\n",
      "   3.25593713e-02]\n",
      " [ 6.63322011e-01  7.85735244e-01  9.62459015e-01  8.56108240e-01\n",
      "   4.27065245e-02]\n",
      " [ 7.82397057e-01  1.76323647e-01 -2.47527884e-01  4.04679745e-01\n",
      "  -2.28648789e-01]\n",
      " [ 5.44246964e-01  2.75147149e-01  8.45923392e-01  3.11280746e-01\n",
      "   2.32314939e-01]\n",
      " [ 1.13962220e+00  3.42102864e+00  3.22752827e-01  1.38536923e+00\n",
      "  -2.82375198e-01]\n",
      " [-1.95632901e+00 -1.36617443e-01 -2.25212552e-01 -2.49113247e-01\n",
      "  -1.17167440e-01]\n",
      " [ 4.25171918e-01  1.59853063e-01  8.78156649e-01  1.08916249e-01\n",
      "   3.40747083e-01]\n",
      " [-6.46503501e-01 -3.50735031e-01 -3.11994399e-01 -3.73645246e-01\n",
      "  -3.16092463e-02]\n",
      " [ 1.13962220e+00 -5.71605559e-01 -4.45886392e-01 -4.96309264e-01\n",
      "   2.30415607e+00]\n",
      " [-2.89278362e-01  5.38676488e-01  2.46006575e+00  2.61512272e+00\n",
      "   6.30365677e-01]\n",
      " [ 1.13962220e+00  2.08691136e+00  2.95596202e+00  2.22596022e+00\n",
      "   1.24752240e-01]\n",
      " [ 5.44246964e-01 -4.00146782e-01 -2.45048403e-01 -4.15052135e-01\n",
      "   1.95897696e-01]\n",
      " [ 1.13962220e+00 -2.02499778e-01 -6.64080751e-01 -4.84634389e-01\n",
      "  -5.06945343e-01]\n",
      " [-6.46503501e-01  3.07514638e+00 -6.40462640e-02 -1.24581249e-01\n",
      "  -3.14442589e-01]\n",
      " [-5.11282686e-02  7.86808624e+00  6.17928778e+00  6.11758518e+00\n",
      "  -6.49600472e-02]\n",
      " [-1.12280369e+00 -4.00146782e-01 -2.17774108e-01  2.02315248e-01\n",
      "   2.52045187e-01]\n",
      " [ 9.01472104e-01 -4.87276170e-01 -3.73981433e-01 -4.56147695e-01\n",
      "   2.00018702e-01]\n",
      " [ 6.63322011e-01  1.18102925e+00  2.70801389e+00  1.99246273e+00\n",
      "   3.21692851e-01]\n",
      " [-5.11282686e-02 -4.72452645e-01 -4.23571060e-01 -4.76695474e-01\n",
      "  -4.61831283e-02]\n",
      " [-5.11282686e-02 -5.18570279e-01 -4.31009504e-01  4.82512245e-01\n",
      "   1.40580739e-01]\n",
      " [-4.08353408e-01  4.03044023e+00  4.19570270e+00  3.53354621e+00\n",
      "   2.05277380e-02]\n",
      " [ 9.01472104e-01 -8.72056922e-02  1.96299278e-01  3.26847246e-01\n",
      "   1.76671428e-01]\n",
      " [-5.11282686e-02  1.34573509e+00 -6.14491124e-01  6.22167493e-02\n",
      "  -3.79669206e-01]\n",
      " [-1.48002883e+00 -5.25982042e-01 -4.73160687e-01 -4.86502369e-01\n",
      "  -7.63935969e-02]\n",
      " [ 4.25171918e-01 -4.33746773e-01 -3.24391806e-01 -4.43383165e-01\n",
      "   1.22044525e-01]\n",
      " [-5.27428455e-01 -5.17417338e-01 -3.78940396e-01 -3.11379246e-01\n",
      "   4.35432622e-01]\n",
      " [-2.89278362e-01  1.18102925e+00  1.57241143e+00  1.83679773e+00\n",
      "   8.13605175e-02]\n",
      " [-2.89278362e-01 -5.14123222e-01 -4.58283799e-01 -4.97710249e-01\n",
      "  -4.39554182e-02]\n",
      " [-2.89278362e-01 -1.53088027e-01  7.72841729e-02 -1.86847248e-01\n",
      "   1.55652033e-01]\n",
      " [ 1.49684734e+00 -5.38334980e-01 -4.16132616e-01 -4.33264940e-01\n",
      "   5.00025322e-01]\n",
      " [-5.27428455e-01  3.41029484e-01  6.62441772e-01  4.20246245e-01\n",
      "   1.15778010e-01]\n",
      " [-4.08353408e-01 -4.87934994e-01 -4.31009504e-01 -4.82922074e-01\n",
      "  -2.37862085e-02]\n",
      " [ 1.97314752e+00  7.03382325e-01  6.84757104e-01  6.84876742e-01\n",
      "  -1.20707420e-02]\n",
      " [-5.27428455e-01 -1.20146860e-01  2.48368386e-01 -1.56157498e-02\n",
      "   2.57149561e-01]\n",
      " [ 3.06096871e-01 -4.80687937e-01 -2.92158548e-01 -4.56614690e-01\n",
      "   4.66577105e-01]\n",
      " [-1.36095378e+00 -1.86029194e-01 -2.52486847e-01 -2.49113247e-01\n",
      "  -1.12488441e-01]\n",
      " [ 4.25171918e-01 -5.54970269e-01 -4.97955500e-01 -4.94285619e-01\n",
      "  -1.14827941e-01]\n",
      " [-5.11282686e-02 -3.01323280e-01 -6.51683344e-01 -4.95063944e-01\n",
      "  -5.42127284e-01]\n",
      " [ 6.79467780e-02 -1.69558611e-01 -1.60746037e-01 -3.73645246e-01\n",
      "  -3.93094894e-02]\n",
      " [-5.27428455e-01 -5.55134975e-01 -4.63242761e-01 -4.98488574e-01\n",
      "   3.81098079e-01]\n",
      " [ 4.25171918e-01 -3.01323280e-01 -4.33488985e-01 -4.90549659e-01\n",
      "  -2.51481189e-01]\n",
      " [ 6.79467780e-02 -2.18970362e-01 -1.45869149e-01 -3.89211745e-01\n",
      "   1.97985498e-02]\n",
      " [ 3.06096871e-01  8.35146995e-01 -6.40462640e-02 -2.80246247e-01\n",
      "  -2.41649585e-01]\n",
      " [ 3.52112313e+00 -5.75393793e-01 -4.88037575e-01 -4.60194985e-01\n",
      "   1.35514629e+00]\n",
      " [-1.95632901e+00 -4.93370286e-01 -4.28530023e-01 -4.22212725e-01\n",
      "   7.53480247e-03]\n",
      " [-2.89278362e-01 -4.16617366e-01 -4.01255728e-01 -4.34043265e-01\n",
      "  -1.02194742e-01]\n",
      " [ 1.87021824e-01 -4.63229118e-01 -3.16953362e-01 -4.23458045e-01\n",
      "   2.65998414e-01]\n",
      " [ 7.82397057e-01  2.38338186e+00  3.69980643e+00  2.36605872e+00\n",
      "   1.69808963e-01]\n",
      " [-1.36095378e+00 -5.42123214e-01 -3.73981433e-01 -3.73645246e-01\n",
      "   9.84236718e-01]\n",
      " [ 7.82397057e-01 -3.01323280e-01  1.03381765e-02  2.02315248e-01\n",
      "   3.39719583e-01]\n",
      " [-8.84653594e-01 -4.70640881e-01 -4.58283799e-01 -3.42512246e-01\n",
      "  -1.68301798e-01]\n",
      " [ 7.82397057e-01 -1.53088027e-01 -5.00434982e-01 -3.26945746e-01\n",
      "  -3.47516336e-01]\n",
      " [ 1.25869724e+00 -2.84852697e-01 -3.76460914e-01 -4.17542775e-01\n",
      "  -1.85792208e-01]\n",
      " [ 1.87021824e-01 -4.85277367e-03 -3.18130065e-02 -1.55714248e-01\n",
      "  -4.76513866e-02]\n",
      " [ 4.25171918e-01 -1.53088027e-01 -1.63225518e-01  1.55172499e-02\n",
      "  -5.38214968e-02]\n",
      " [ 1.87021824e-01 -3.50735031e-01 -3.91337802e-01 -4.40736860e-01\n",
      "  -1.59946481e-01]\n",
      " [ 1.49684734e+00 -5.76546734e-01 -5.00434982e-01 -4.99733894e-01\n",
      "   8.01200205e-01]\n",
      " [ 7.82397057e-01 -2.18970362e-01 -8.14026335e-02 -1.55714248e-01\n",
      "   8.61547320e-02]\n",
      " [-1.00372864e+00 -4.85277367e-03  5.33508741e-01  5.75911243e-01\n",
      "   3.18109515e-01]\n",
      " [ 6.63322011e-01 -4.24193835e-01 -2.77281660e-01 -3.73645246e-01\n",
      "   2.04533133e-01]\n",
      " [-1.59910387e+00 -4.84805583e-01 -3.19432843e-01 -3.42512246e-01\n",
      "   3.96464540e-01]\n",
      " [-1.70203315e-01  3.57500068e-01 -1.60132470e+00 -4.33264940e-01\n",
      "  -7.91923006e-01]\n",
      " [ 1.87021824e-01  2.91617733e-01  2.48368386e-01 -2.17980247e-01\n",
      "  -3.41820392e-02]\n",
      " [ 5.44246964e-01  1.44455859e+00  1.65919327e+00  9.02807740e-01\n",
      "   3.98631004e-02]\n",
      " [-1.70203315e-01  7.19852909e-01  1.13354323e+00  1.86748748e-01\n",
      "   1.12160985e-01]\n",
      " [-2.07540406e+00 -4.76405585e-01 -3.59104545e-01 -4.79964439e-01\n",
      "   1.94831960e-01]\n",
      " [ 3.06096871e-01 -4.52029121e-01 -4.16132616e-01 -3.42512246e-01\n",
      "  -7.43713307e-02]\n",
      " [-5.11282686e-02 -3.77939411e-02 -3.49186619e-01 -2.17980247e-01\n",
      "  -2.46476927e-01]\n",
      " [-1.24187873e+00 -4.82664407e-01 -4.65722243e-01 -4.82455079e-01\n",
      "  -1.73002527e-01]\n",
      " [-4.08353408e-01 -5.57770268e-01 -4.75640168e-01 -4.78407789e-01\n",
      "   2.67750779e-01]\n",
      " [-1.70203315e-01 -3.50735031e-01 -1.90499813e-01 -1.09014749e-01\n",
      "   1.64907113e-01]\n",
      " [ 6.79467780e-02  7.52794077e-01 -4.16132616e-01  9.96206739e-01\n",
      "  -3.32746274e-01]\n",
      " [-1.59910387e+00 -4.88923229e-01 -3.81419877e-01 -4.79341779e-01\n",
      "   1.79984246e-01]\n",
      " [ 9.01472104e-01 -1.86029194e-01 -2.20253589e-01 -3.26945746e-01\n",
      "  -8.20752233e-02]\n",
      " [ 1.87021824e-01 -4.47087946e-01 -4.26050541e-01 -4.74827494e-01\n",
      "  -1.12459749e-01]\n",
      " [-7.65578548e-01 -2.51911529e-01 -6.40462640e-02 -1.55714248e-01\n",
      "   1.50469221e-01]\n",
      " [-2.89278362e-01  1.44455859e+00  2.70801389e+00  2.49059072e+00\n",
      "   2.32956144e-01]\n",
      " [ 6.79467780e-02  1.77397027e+00  3.45185829e+00  3.11325071e+00\n",
      "   2.67750779e-01]\n",
      " [-1.95632901e+00 -5.09017341e-01 -4.40927429e-01 -4.69846215e-01\n",
      "   2.32227641e-02]\n",
      " [-5.27428455e-01 -4.00146782e-01 -3.88858321e-01 -4.22057060e-01\n",
      "  -1.00152993e-01]\n",
      " [-7.65578548e-01 -2.84852697e-01 -1.92979294e-01 -3.11379246e-01\n",
      "   4.50365916e-02]\n",
      " [ 1.87021824e-01  1.43382480e-01 -3.59104545e-01 -4.21901395e-01\n",
      "  -2.80080391e-01]\n",
      " [-1.24187873e+00 -4.92711463e-01 -4.26050541e-01 -4.86813699e-01\n",
      "   1.52350456e-02]\n",
      " [ 5.44246964e-01 -1.36617443e-01  4.61603782e-01  1.01177324e+00\n",
      "   4.58864678e-01]\n",
      " [ 6.63322011e-01  2.25735398e-01 -1.66331173e+00 -3.42512246e-01\n",
      "  -8.91010457e-01]\n",
      " [-5.11282686e-02 -4.82993818e-01 -3.54145582e-01 -2.95812747e-01\n",
      "   2.50848122e-01]\n",
      " [-2.89278362e-01 -2.35440945e-01 -4.83078612e-01 -4.53657055e-01\n",
      "  -3.25715456e-01]\n",
      " [-5.27428455e-01 -5.73087911e-01 -4.95476019e-01 -4.19877750e-01\n",
      "   5.37887298e-01]\n",
      " [-1.36095378e+00 -5.46734977e-01 -4.18612097e-01 -2.64679747e-01\n",
      "   6.82266786e-01]\n",
      " [-1.00372864e+00  2.09264814e-01 -3.88858321e-01 -3.89211745e-01\n",
      "  -3.00816691e-01]\n",
      " [-1.70203315e-01 -5.02593813e-01 -4.21091578e-01 -4.95063944e-01\n",
      "   8.58878065e-02]\n",
      " [ 1.49684734e+00 -3.83676199e-01 -1.68184481e-01 -6.23152492e-02\n",
      "   2.94581446e-01]\n",
      " [ 2.80667285e+00 -4.96829109e-01 -3.83899358e-01 -4.10537850e-01\n",
      "   2.19608188e-01]\n",
      " [-2.89278362e-01 -4.77064408e-01 -3.44227657e-01 -2.80246247e-01\n",
      "   2.51561196e-01]\n",
      " [-1.24187873e+00 -5.59911444e-01 -4.50845355e-01 -3.73645246e-01\n",
      "   7.62477488e-01]\n",
      " [ 4.25171918e-01 -3.34264448e-01 -1.80581887e-01 -2.95812747e-01\n",
      "   1.44854466e-01]\n",
      " [-1.70203315e-01 -4.98805579e-01 -4.31009504e-01 -4.68600895e-01\n",
      "   2.05677712e-02]\n",
      " [ 4.25171918e-01  3.96455790e+00  2.95596202e+00  2.10142823e+00\n",
      "  -7.56670476e-02]\n",
      " [ 5.44246964e-01  1.10441312e-01 -3.29350769e-01 -4.04778245e-01\n",
      "  -2.60209999e-01]\n",
      " [ 5.44246964e-01  6.70441158e-01  3.87219342e-01  2.64581247e-01\n",
      "  -9.15562421e-02]\n",
      " [-2.07540406e+00 -5.43934978e-01 -4.48365873e-01 -4.32486615e-01\n",
      "   3.07360628e-01]\n",
      " [-1.70203315e-01 -3.67205615e-01 -3.16953362e-01 -4.30618635e-01\n",
      "  -1.49501005e-02]\n",
      " [ 6.79467780e-02 -3.50735031e-01 -2.99596992e-01 -4.08047210e-01\n",
      "  -1.15565427e-02]\n",
      " [-5.27428455e-01 -4.16617366e-01 -4.28530023e-01 -4.75138824e-01\n",
      "  -1.63957045e-01]\n",
      " [ 4.25171918e-01 -5.24170278e-01 -4.70681205e-01 -4.39335875e-01\n",
      "  -6.92181649e-02]\n",
      " [ 1.25869724e+00  1.11514692e+00  3.69980643e+00  6.50674768e+00\n",
      "   5.66233387e-01]\n",
      " [ 1.87021824e-01 -4.46593829e-01 -4.33488985e-01 -4.96464929e-01\n",
      "  -1.33961340e-01]\n",
      " [-2.89278362e-01 -4.17605601e-01 -3.76460914e-01 -4.38868880e-01\n",
      "  -4.41492395e-02]\n",
      " [ 6.79467780e-02 -2.84852697e-01 -4.35968467e-01 -4.85879709e-01\n",
      "  -2.60655586e-01]\n",
      " [-1.70203315e-01 -4.00146782e-01 -1.55787074e-01 -2.33546747e-01\n",
      "   3.79653403e-01]\n",
      " [ 3.06096871e-01 -8.72056922e-02  1.21914837e-01  4.66502495e-02\n",
      "   1.20523881e-01]\n",
      " [-1.95632901e+00 -1.86029194e-01 -3.66542989e-01 -3.58078746e-01\n",
      "  -2.20104592e-01]\n",
      " [ 5.44246964e-01 -1.69558611e-01 -3.39268694e-01 -3.73645246e-01\n",
      "  -2.01014426e-01]\n",
      " [ 3.06096871e-01  1.92794231e-01  3.51329900e-02 -1.40147748e-01\n",
      "  -9.52659105e-02]\n",
      " [ 6.79467780e-02 -2.68382113e-01  4.20251076e-04  3.11280746e-01\n",
      "   2.54194516e-01]\n",
      " [ 6.63322011e-01  2.91617733e-01  5.24893594e-02  6.22167493e-02\n",
      "  -1.17873664e-01]\n",
      " [-2.78985434e+00 -5.51511447e-01 -4.26050541e-01 -3.58078746e-01\n",
      "   7.56273184e-01]\n",
      " [ 1.02054715e+00 -4.88593817e-01 -1.18725132e+00 -4.75761484e-01\n",
      "  -3.06313509e+00]\n",
      " [-4.08353408e-01 -3.37229153e-01 -4.16132616e-01 -4.73737839e-01\n",
      "  -2.08928142e-01]\n",
      " [-2.19447911e+00 -5.43276155e-01 -4.21091578e-01 -4.67199910e-01\n",
      "   5.63166047e-01]\n",
      " [ 7.82397057e-01 -4.38029125e-01 -4.23571060e-01 -4.53657055e-01\n",
      "  -1.21685072e-01]\n",
      " [ 1.87021824e-01 -5.34382040e-01 -4.16132616e-01 -4.11627505e-01\n",
      "   4.27562421e-01]\n",
      " [-4.08353408e-01 -5.11817340e-01 -4.40927429e-01 -4.81832419e-01\n",
      "   3.86797347e-02]\n",
      " [ 3.06096871e-01  4.40511810e-01  4.78960152e-01  1.10517224e+00\n",
      "   2.44025476e-03]\n",
      " [ 6.63322011e-01  3.08088317e-01  6.69880216e-01  5.75911243e-01\n",
      "   1.36536263e-01]\n",
      " [-7.65578548e-01 -1.53088027e-01 -1.03717966e-01 -2.17980247e-01\n",
      "  -1.99298714e-03]\n",
      " [-1.24187873e+00 -3.83676199e-01 -4.73160687e-01 -4.56303360e-01\n",
      "  -2.80931083e-01]\n",
      " [-1.71817892e+00 -3.50735031e-01 -4.53871162e-03 -9.34482489e-02\n",
      "   4.65697835e-01]\n",
      " [ 6.79467780e-02 -1.53088027e-01  1.78942908e-01  3.10837497e-02\n",
      "   2.44192391e-01]\n",
      " [ 9.01472104e-01 -4.85134994e-01 -4.03735209e-01 -4.94596949e-01\n",
      "   7.21703431e-02]\n",
      " [ 9.01472104e-01 -4.76734997e-01 -3.86378840e-01 -3.58078746e-01\n",
      "   9.93174576e-02]\n",
      " [-1.83725397e+00 -5.56782033e-01 -4.63242761e-01 -4.72181190e-01\n",
      "   4.30867827e-01]\n",
      " [ 6.79467780e-02  1.29632334e+00  5.37921378e-03  1.86748748e-01\n",
      "  -2.57043783e-01]\n",
      " [ 6.79467780e-02 -3.17793864e-01 -3.78940396e-01 -3.58078746e-01\n",
      "  -1.67466266e-01]\n",
      " [ 1.37777229e+00 -3.77939411e-02 -2.87199586e-01 -2.33546747e-01\n",
      "  -2.03940892e-01]\n",
      " [-1.12280369e+00 -4.00146782e-01 -3.98776246e-01 -1.71280748e-01\n",
      "  -1.20570319e-01]\n",
      " [ 9.01472104e-01 -1.86029194e-01  2.92999050e-01 -1.86847248e-01\n",
      "   4.02197205e-01]\n",
      " [-1.24187873e+00 -2.18970362e-01 -4.06214690e-01 -4.77473799e-01\n",
      "  -2.48178366e-01]\n",
      " [-8.84653594e-01 -5.70617324e-01 -8.42603408e-01 -3.73645246e-01\n",
      "  -1.17627433e+01]\n",
      " [-2.89278362e-01 -1.36617443e-01  4.41767931e-01  1.40049248e-01\n",
      "   4.42228721e-01]\n",
      " [-8.84653594e-01 -4.96829109e-01 -3.93817284e-01 -4.77318134e-01\n",
      "   1.75828654e-01]\n",
      " [ 6.79467780e-02 -4.81676172e-01 -3.76460914e-01 -4.58794000e-01\n",
      "   1.59239355e-01]\n",
      " [ 6.79467780e-02 -4.98311461e-01 -4.13653134e-01 -4.94908279e-01\n",
      "   9.62824020e-02]\n",
      " [ 7.82397057e-01 -5.26311454e-01 -4.08694172e-01 -4.85724044e-01\n",
      "   3.62384102e-01]\n",
      " [ 1.87021824e-01 -4.55158532e-01 -3.93817284e-01 -4.73270844e-01\n",
      "  -1.30506739e-03]\n",
      " [ 1.73499743e+00 -5.10170282e-01 -4.45886392e-01 -4.86191039e-01\n",
      "   3.44585733e-03]\n",
      " [ 7.82397057e-01 -5.35699686e-01 -7.13670378e-01 -4.76384144e-01\n",
      "  -1.98206348e+00]\n",
      " [ 1.49684734e+00 -5.40311450e-01 -4.38447948e-01 -4.31552625e-01\n",
      "   3.38552275e-01]]\n"
     ]
    }
   ],
   "source": [
    "# scaling the data\n",
    "scale = StandardScaler()\n",
    "scaledX = scale.fit_transform(X)\n",
    "\n",
    "print(scaledX)"
   ]
  },
  {
   "cell_type": "code",
   "execution_count": 13,
   "id": "940a9326",
   "metadata": {},
   "outputs": [
    {
     "name": "stdout",
     "output_type": "stream",
     "text": [
      "[1352.63126529]\n"
     ]
    },
    {
     "name": "stderr",
     "output_type": "stream",
     "text": [
      "c:\\Users\\sm915\\PycharmProjects\\sem7\\venv\\Lib\\site-packages\\sklearn\\base.py:465: UserWarning: X does not have valid feature names, but StandardScaler was fitted with feature names\n",
      "  warnings.warn(\n"
     ]
    }
   ],
   "source": [
    "# now predicting the salary based on the scaling\n",
    "regr.fit(scaledX, y)\n",
    "\n",
    "scaled = scale.transform([[49, 6200, 966, 23200, 15.58065]])\n",
    "\n",
    "predictedSalary = regr.predict([scaled[0]])\n",
    "print(predictedSalary)"
   ]
  },
  {
   "cell_type": "code",
   "execution_count": 14,
   "id": "49977958",
   "metadata": {},
   "outputs": [
    {
     "data": {
      "image/png": "[encoded data removed]",
      "text/plain": [
       "<Figure size 640x480 with 1 Axes>"
      ]
     },
     "metadata": {},
     "output_type": "display_data"
    }
   ],
   "source": [
    "# now checking it visually\n",
    "plt.scatter(df['Sales'], y)\n",
    "plt.xlabel('Sales')\n",
    "plt.ylabel('Salary')\n",
    "plt.title('Sales V/S Salary')\n",
    "plt.show()"
   ]
  },
  {
   "cell_type": "code",
   "execution_count": 15,
   "id": "8dea2b1c",
   "metadata": {},
   "outputs": [
    {
     "data": {
      "image/png": "[encoded data removed]",
      "text/plain": [
       "<Figure size 640x480 with 1 Axes>"
      ]
     },
     "metadata": {},
     "output_type": "display_data"
    }
   ],
   "source": [
    "# now checking it visually\n",
    "plt.scatter(df['Profits'], y)\n",
    "plt.xlabel('Profits')\n",
    "plt.ylabel('Salary')\n",
    "plt.title('Profits V/S Salary')\n",
    "plt.show()"
   ]
  },
  {
   "cell_type": "code",
   "execution_count": 16,
   "id": "e3af6cb8",
   "metadata": {},
   "outputs": [
    {
     "data": {
      "image/png": "[encoded data removed]",
      "text/plain": [
       "<Figure size 640x480 with 1 Axes>"
      ]
     },
     "metadata": {},
     "output_type": "display_data"
    }
   ],
   "source": [
    "# now checking it visually\n",
    "plt.scatter(df['Mktval'], y)\n",
    "plt.xlabel('Mktval')\n",
    "plt.ylabel('Salary')\n",
    "plt.title('Mktval V/S Salary')\n",
    "plt.show()"
   ]
  },
  {
   "cell_type": "code",
   "execution_count": 17,
   "id": "8d3c4d94",
   "metadata": {},
   "outputs": [
    {
     "data": {
      "image/png": "[encoded data removed]",
      "text/plain": [
       "<Figure size 640x480 with 1 Axes>"
      ]
     },
     "metadata": {},
     "output_type": "display_data"
    }
   ],
   "source": [
    "# now checking it visually\n",
    "plt.scatter(df['Profmarg'], y)\n",
    "plt.xlabel('Profmarg')\n",
    "plt.ylabel('Salary')\n",
    "plt.title('Profmarg V/S Salary')\n",
    "plt.show()"
   ]
  },
  {
   "cell_type": "code",
   "execution_count": 18,
   "id": "87ba7bbb",
   "metadata": {},
   "outputs": [
    {
     "name": "stdout",
     "output_type": "stream",
     "text": [
      "independent Variables mean :  3529.463276836158\n",
      "dependent variables mean :  865.8644067796611\n",
      "independent Variables std :  6071.4302431802635\n",
      "dependent variables std :  585.9270733519616\n",
      "p-value 6.904341618426814e-09\n",
      "we reject null hypothesis\n"
     ]
    }
   ],
   "source": [
    "# null hypothesis for any relation between X and y\n",
    "X_mean = np.mean(df['Sales'])\n",
    "y_mean = np.mean(y)\n",
    "print(\"independent Variables mean : \", X_mean)\n",
    "print(\"dependent variables mean : \", y_mean)\n",
    "\n",
    "X_std = np.std(df['Sales'])\n",
    "y_std = np.std(y)\n",
    "print(\"independent Variables std : \", X_std)\n",
    "print(\"dependent variables std : \", y_std)\n",
    "\n",
    "ztest,pval = stests.ztest(df['Sales'],y)\n",
    "print(\"p-value\", pval)\n",
    "\n",
    "if (pval < 0.05).all():\n",
    "    print(\"we reject null hypothesis\")\n",
    "else:\n",
    "    print(\"we accept null hypothesis\")"
   ]
  },
  {
   "cell_type": "code",
   "execution_count": 19,
   "id": "af4545fa",
   "metadata": {},
   "outputs": [
    {
     "name": "stdout",
     "output_type": "stream",
     "text": [
      "independent Variables mean :  207.83050847457628\n",
      "dependent variables mean :  865.8644067796611\n",
      "independent Variables std :  403.3101518896537\n",
      "dependent variables std :  585.9270733519616\n",
      "p-value 1.2684794713790172e-34\n",
      "we reject null hypothesis\n"
     ]
    }
   ],
   "source": [
    "# null hypothesis for any relation between X and y\n",
    "X_mean = np.mean(df['Profits'])\n",
    "y_mean = np.mean(y)\n",
    "print(\"independent Variables mean : \", X_mean)\n",
    "print(\"dependent variables mean : \", y_mean)\n",
    "\n",
    "X_std = np.std(df['Profits'])\n",
    "y_std = np.std(y)\n",
    "print(\"independent Variables std : \", X_std)\n",
    "print(\"dependent variables std : \", y_std)\n",
    "\n",
    "ztest,pval = stests.ztest(df['Profits'],y)\n",
    "print(\"p-value\", pval)\n",
    "\n",
    "if (pval < 0.05).all():\n",
    "    print(\"we reject null hypothesis\")\n",
    "else:\n",
    "    print(\"we accept null hypothesis\")"
   ]
  },
  {
   "cell_type": "code",
   "execution_count": 20,
   "id": "78da1435",
   "metadata": {},
   "outputs": [
    {
     "name": "stdout",
     "output_type": "stream",
     "text": [
      "independent Variables mean :  3600.316384180791\n",
      "dependent variables mean :  865.8644067796611\n",
      "independent Variables std :  6424.051723326085\n",
      "dependent variables std :  585.9270733519616\n",
      "p-value 1.8695929125067086e-08\n",
      "we reject null hypothesis\n"
     ]
    }
   ],
   "source": [
    "# null hypothesis for any relation between X and y\n",
    "X_mean = np.mean(df['Mktval'])\n",
    "y_mean = np.mean(y)\n",
    "print(\"independent Variables mean : \", X_mean)\n",
    "print(\"dependent variables mean : \", y_mean)\n",
    "\n",
    "X_std = np.std(df['Mktval'])\n",
    "y_std = np.std(y)\n",
    "print(\"independent Variables std : \", X_std)\n",
    "print(\"dependent variables std : \", y_std)\n",
    "\n",
    "ztest,pval = stests.ztest(df['Mktval'],y)\n",
    "print(\"p-value\", pval)\n",
    "\n",
    "if (pval < 0.05).all():\n",
    "    print(\"we reject null hypothesis\")\n",
    "else:\n",
    "    print(\"we accept null hypothesis\")"
   ]
  },
  {
   "cell_type": "code",
   "execution_count": 21,
   "id": "1ca7832d",
   "metadata": {},
   "outputs": [
    {
     "name": "stdout",
     "output_type": "stream",
     "text": [
      "independent Variables mean :  6.420110533333333\n",
      "dependent variables mean :  865.8644067796611\n",
      "independent Variables std :  17.810216942233694\n",
      "dependent variables std :  585.9270733519616\n",
      "p-value 2.88807355628752e-84\n",
      "we reject null hypothesis\n"
     ]
    }
   ],
   "source": [
    "# null hypothesis for any relation between X and y\n",
    "X_mean = np.mean(df['Profmarg'])\n",
    "y_mean = np.mean(y)\n",
    "print(\"independent Variables mean : \", X_mean)\n",
    "print(\"dependent variables mean : \", y_mean)\n",
    "\n",
    "X_std = np.std(df['Profmarg'])\n",
    "y_std = np.std(y)\n",
    "print(\"independent Variables std : \", X_std)\n",
    "print(\"dependent variables std : \", y_std)\n",
    "\n",
    "ztest,pval = stests.ztest(df['Profmarg'],y)\n",
    "print(\"p-value\", pval)\n",
    "\n",
    "if (pval < 0.05).all():\n",
    "    print(\"we reject null hypothesis\")\n",
    "else:\n",
    "    print(\"we accept null hypothesis\")"
   ]
  },
  {
   "cell_type": "code",
   "execution_count": 22,
   "id": "f77b9d09",
   "metadata": {},
   "outputs": [
    {
     "name": "stdout",
     "output_type": "stream",
     "text": [
      "independent Variables mean :  56.429378531073446\n",
      "dependent variables mean :  865.8644067796611\n",
      "independent Variables std :  8.39806516310947\n",
      "dependent variables std :  585.9270733519616\n",
      "p-value 5.203164789674818e-75\n",
      "we reject null hypothesis\n"
     ]
    }
   ],
   "source": [
    "# null hypothesis for any relation between X and y\n",
    "X_mean = np.mean(df['Age'])\n",
    "y_mean = np.mean(y)\n",
    "print(\"independent Variables mean : \", X_mean)\n",
    "print(\"dependent variables mean : \", y_mean)\n",
    "\n",
    "X_std = np.std(df['Age'])\n",
    "y_std = np.std(y)\n",
    "print(\"independent Variables std : \", X_std)\n",
    "print(\"dependent variables std : \", y_std)\n",
    "\n",
    "ztest,pval = stests.ztest(df['Age'],y)\n",
    "print(\"p-value\", pval)\n",
    "\n",
    "if (pval < 0.05).all():\n",
    "    print(\"we reject null hypothesis\")\n",
    "else:\n",
    "    print(\"we accept null hypothesis\")"
   ]
  },
  {
   "cell_type": "code",
   "execution_count": 23,
   "id": "4ba7c697",
   "metadata": {},
   "outputs": [
    {
     "name": "stdout",
     "output_type": "stream",
     "text": [
      "independent Variables mean :  7.954802259887006\n",
      "dependent variables mean :  865.8644067796611\n",
      "independent Variables std :  7.130597085196114\n",
      "dependent variables std :  585.9270733519616\n",
      "p-value 4.907293974344732e-84\n",
      "we reject null hypothesis\n"
     ]
    }
   ],
   "source": [
    "# null hypothesis for any relation between X and y\n",
    "X_mean = np.mean(df['CeoTen'])\n",
    "y_mean = np.mean(y)\n",
    "print(\"independent Variables mean : \", X_mean)\n",
    "print(\"dependent variables mean : \", y_mean)\n",
    "\n",
    "X_std = np.std(df['CeoTen'])\n",
    "y_std = np.std(y)\n",
    "print(\"independent Variables std : \", X_std)\n",
    "print(\"dependent variables std : \", y_std)\n",
    "\n",
    "ztest,pval = stests.ztest(df['CeoTen'],y)\n",
    "print(\"p-value\", pval)\n",
    "\n",
    "if (pval < 0.05).all():\n",
    "    print(\"we reject null hypothesis\")\n",
    "else:\n",
    "    print(\"we accept null hypothesis\")"
   ]
  },
  {
   "cell_type": "code",
   "execution_count": null,
   "id": "3bb4d6d6",
   "metadata": {},
   "outputs": [],
   "source": []
  }
 ],
 "metadata": {
  "kernelspec": {
   "display_name": "Python 3",
   "language": "python",
   "name": "python3"
  },
  "language_info": {
   "codemirror_mode": {
    "name": "ipython",
    "version": 3
   },
   "file_extension": ".py",
   "mimetype": "text/x-python",
   "name": "python",
   "nbconvert_exporter": "python",
   "pygments_lexer": "ipython3",
   "version": "3.11.5"
  }
 },
 "nbformat": 4,
 "nbformat_minor": 5
}
