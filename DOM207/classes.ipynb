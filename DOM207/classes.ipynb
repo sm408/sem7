{
 "cells": [
  {
   "cell_type": "code",
   "execution_count": 1,
   "id": "initial_id",
   "metadata": {
    "collapsed": true,
    "ExecuteTime": {
     "end_time": "2023-10-23T08:58:01.979399500Z",
     "start_time": "2023-10-23T08:58:01.969902700Z"
    }
   },
   "outputs": [],
   "source": [
    "import fibo"
   ]
  },
  {
   "cell_type": "code",
   "execution_count": 2,
   "outputs": [
    {
     "name": "stdout",
     "output_type": "stream",
     "text": [
      "0 1 1 2 3 5 8 13 21 34 55 89 144 233 377 610 987 \n"
     ]
    },
    {
     "data": {
      "text/plain": "'fibo'"
     },
     "execution_count": 2,
     "metadata": {},
     "output_type": "execute_result"
    }
   ],
   "source": [
    "fibo.fib(1000)\n",
    "fibo.fib2(100)\n",
    "fibo.__name__"
   ],
   "metadata": {
    "collapsed": false,
    "ExecuteTime": {
     "end_time": "2023-10-23T08:58:23.775237100Z",
     "start_time": "2023-10-23T08:58:23.741669600Z"
    }
   },
   "id": "3ed3914d5e37ff9f"
  },
  {
   "cell_type": "code",
   "execution_count": 3,
   "outputs": [
    {
     "name": "stdout",
     "output_type": "stream",
     "text": [
      "0 1 1 2 3 5 8 13 21 34 55 89 144 233 377 \n"
     ]
    }
   ],
   "source": [
    "fibo = fibo.fib\n",
    "fibo(500)"
   ],
   "metadata": {
    "collapsed": false,
    "ExecuteTime": {
     "end_time": "2023-10-23T08:58:38.689996600Z",
     "start_time": "2023-10-23T08:58:38.683879600Z"
    }
   },
   "id": "1d68e8123f02556e"
  },
  {
   "cell_type": "code",
   "execution_count": 2,
   "outputs": [
    {
     "name": "stdout",
     "output_type": "stream",
     "text": [
      "   rate  point  assist  rebound\n",
      "0    90     25       5       11\n",
      "1    85     20       7        8\n",
      "2    82     14       7       10\n",
      "3    88     16       8        6\n",
      "4    94     27       5        6\n",
      "5    90     20       7        9\n",
      "6    76     12       6        6\n",
      "7    75     15       9       10\n",
      "8    87     14       9       10\n",
      "9    86     19       5        7\n"
     ]
    }
   ],
   "source": [
    "import pandas as pd\n",
    "\n",
    "df  = pd.DataFrame({\n",
    "    'rate':[90, 85, 82, 88, 94, 90, 76, 75, 87, 86],\n",
    "    'point':[25, 20, 14, 16, 27, 20, 12, 15, 14, 19],\n",
    "    'assist':[5, 7, 7, 8, 5, 7, 6, 9, 9, 5],\n",
    "    'rebound':[11, 8, 10, 6, 6, 9, 6, 10, 10, 7]\n",
    "})\n",
    "print(df)"
   ],
   "metadata": {
    "collapsed": false,
    "ExecuteTime": {
     "end_time": "2023-10-25T08:50:35.515927900Z",
     "start_time": "2023-10-25T08:50:35.472468900Z"
    }
   },
   "id": "2811486a1062a812"
  },
  {
   "cell_type": "code",
   "execution_count": 3,
   "outputs": [],
   "source": [
    "from patsy.highlevel import dmatrices\n",
    "\n",
    "from statsmodels.stats.outliers_influence import variance_inflation_factor\n",
    "\n",
    "#find design matrix for MR where 'rate' is DV\n",
    "#we're returning a DF\n",
    "\n",
    "y, X = dmatrices('rate ~ point + assist + rebound', data= df, return_type='dataframe')\n",
    "\n",
    "#create DF to hold VIF results\n",
    "vif_df = pd.DataFrame()\n",
    "vif_df['variable'] = X.columns\n"
   ],
   "metadata": {
    "collapsed": false,
    "ExecuteTime": {
     "end_time": "2023-10-25T08:57:52.475699400Z",
     "start_time": "2023-10-25T08:57:50.653008800Z"
    }
   },
   "id": "6a2b7b5b97ccc2e4"
  },
  {
   "cell_type": "code",
   "execution_count": 4,
   "outputs": [
    {
     "name": "stdout",
     "output_type": "stream",
     "text": [
      "    variable         VIF\n",
      "0  Intercept  101.258171\n",
      "1      point    1.763977\n",
      "2     assist    1.959104\n",
      "3    rebound    1.175030\n"
     ]
    }
   ],
   "source": [
    "#calculate VIF for each variable\n",
    "#do this in one step\n",
    "vif_df['VIF'] = [variance_inflation_factor(X.values, i) for i in range(X.shape[1])]\n",
    "#view VIF for each IV\n",
    "print(vif_df)"
   ],
   "metadata": {
    "collapsed": false,
    "ExecuteTime": {
     "end_time": "2023-10-25T08:59:34.628595300Z",
     "start_time": "2023-10-25T08:59:34.567978400Z"
    }
   },
   "id": "e4057afab49d6252"
  },
  {
   "cell_type": "code",
   "execution_count": 5,
   "outputs": [],
   "source": [
    "from sklearn.linear_model import LinearRegression\n",
    "from statsmodels.stats.diagnostic import het_white\n",
    "import statsmodels.api as sm\n",
    "\n",
    "#read dataset\n",
    "fl = 'mtcars.csv'\n",
    "data = pd.read_csv(fl)"
   ],
   "metadata": {
    "collapsed": false,
    "ExecuteTime": {
     "end_time": "2023-10-25T09:06:13.776642600Z",
     "start_time": "2023-10-25T09:06:11.930933600Z"
    }
   },
   "id": "578698cdabe69097"
  },
  {
   "cell_type": "code",
   "execution_count": 6,
   "outputs": [
    {
     "name": "stdout",
     "output_type": "stream",
     "text": [
      "<class 'pandas.core.frame.DataFrame'>\n",
      "RangeIndex: 32 entries, 0 to 31\n",
      "Data columns (total 12 columns):\n",
      " #   Column  Non-Null Count  Dtype  \n",
      "---  ------  --------------  -----  \n",
      " 0   model   32 non-null     object \n",
      " 1   mpg     32 non-null     float64\n",
      " 2   cyl     32 non-null     int64  \n",
      " 3   disp    32 non-null     float64\n",
      " 4   hp      32 non-null     int64  \n",
      " 5   drat    32 non-null     float64\n",
      " 6   wt      32 non-null     float64\n",
      " 7   qsec    32 non-null     float64\n",
      " 8   vs      32 non-null     int64  \n",
      " 9   am      32 non-null     int64  \n",
      " 10  gear    32 non-null     int64  \n",
      " 11  carb    32 non-null     int64  \n",
      "dtypes: float64(5), int64(6), object(1)\n",
      "memory usage: 3.1+ KB\n"
     ]
    }
   ],
   "source": [
    "data.info()\n",
    "\n",
    "#define DV\n",
    "y = data['mpg']\n",
    "\n",
    "#define IV\n",
    "x= data[['disp','hp']]\n",
    "\n",
    "# add constants to predictor variables\n",
    "x = sm.add_constant(x)"
   ],
   "metadata": {
    "collapsed": false,
    "ExecuteTime": {
     "end_time": "2023-10-25T09:09:05.023894200Z",
     "start_time": "2023-10-25T09:09:04.981334900Z"
    }
   },
   "id": "30245307aade5ea7"
  },
  {
   "cell_type": "code",
   "execution_count": 10,
   "outputs": [
    {
     "name": "stdout",
     "output_type": "stream",
     "text": [
      "{'Test Stat': 7.076620330416624, 'Test Stat p-val': 0.21500404394263936, 'F-stat': 1.4764621093131864, 'F-Test p-val': 0.2314706594387968}\n"
     ]
    }
   ],
   "source": [
    "#fit regression model\n",
    "model = sm.OLS(y,x).fit()\n",
    "\n",
    "#perform white's test\n",
    "white_test = het_white(model.resid, model.model.exog)\n",
    "\n",
    "#define labels for white's test results\n",
    "labels = ['Test Stat','Test Stat p-val','F-stat','F-Test p-val']\n",
    "\n",
    "#print white's test results\n",
    "print(dict(zip(labels,white_test)))"
   ],
   "metadata": {
    "collapsed": false,
    "ExecuteTime": {
     "end_time": "2023-10-25T09:13:01.477052Z",
     "start_time": "2023-10-25T09:13:01.461394500Z"
    }
   },
   "id": "996ed7f261fa37d2"
  },
  {
   "cell_type": "code",
   "execution_count": null,
   "outputs": [],
   "source": [],
   "metadata": {
    "collapsed": false
   },
   "id": "ae0d2a93577b8038"
  }
 ],
 "metadata": {
  "kernelspec": {
   "display_name": "Python 3",
   "language": "python",
   "name": "python3"
  },
  "language_info": {
   "codemirror_mode": {
    "name": "ipython",
    "version": 2
   },
   "file_extension": ".py",
   "mimetype": "text/x-python",
   "name": "python",
   "nbconvert_exporter": "python",
   "pygments_lexer": "ipython2",
   "version": "2.7.6"
  }
 },
 "nbformat": 4,
 "nbformat_minor": 5
}
