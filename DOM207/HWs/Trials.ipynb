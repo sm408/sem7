{
 "cells": [
  {
   "cell_type": "code",
   "execution_count": 19,
   "outputs": [
    {
     "ename": "TypeError",
     "evalue": "type str doesn't define __round__ method",
     "output_type": "error",
     "traceback": [
      "\u001B[1;31m---------------------------------------------------------------------------\u001B[0m",
      "\u001B[1;31mTypeError\u001B[0m                                 Traceback (most recent call last)",
      "Cell \u001B[1;32mIn[19], line 3\u001B[0m\n\u001B[0;32m      1\u001B[0m \u001B[38;5;66;03m# check if a number is float or not\u001B[39;00m\n\u001B[0;32m      2\u001B[0m num \u001B[38;5;241m=\u001B[39m \u001B[38;5;28minput\u001B[39m(\u001B[38;5;124m\"\u001B[39m\u001B[38;5;124mEnter a number: \u001B[39m\u001B[38;5;124m\"\u001B[39m)\n\u001B[1;32m----> 3\u001B[0m num \u001B[38;5;241m=\u001B[39m \u001B[38;5;28;43mround\u001B[39;49m\u001B[43m(\u001B[49m\u001B[43mnum\u001B[49m\u001B[43m)\u001B[49m\n\u001B[0;32m      4\u001B[0m \u001B[38;5;28mprint\u001B[39m(num)\n",
      "\u001B[1;31mTypeError\u001B[0m: type str doesn't define __round__ method"
     ]
    }
   ],
   "source": [
    "# check if a number is float or not\n",
    "num = input(\"Enter a number: \")\n",
    "num = round(num)\n",
    "print(num)\n"
   ],
   "metadata": {
    "collapsed": false
   },
   "id": "a133072698542e99"
  },
  {
   "cell_type": "code",
   "execution_count": 5,
   "outputs": [
    {
     "name": "stdout",
     "output_type": "stream",
     "text": [
      "Please enter an integer\n",
      "4.5\n"
     ]
    }
   ],
   "source": [
    "\n",
    "#above code is not going ahead if I enter 2.5. Why?\n",
    "# It is not going ahead because it is not numeric. It is a float. To rectify it we can write this code in the following format\n",
    "\n",
    "num = input(\"Enter an number: \")\n",
    "if num.isnumeric():\n",
    "    num = int(num)\n",
    "elif num.isdecimal():\n",
    "    num = float(num)\n",
    "    num = int(num)\n",
    "else:\n",
    "    print(\"Please enter an integer\")\n",
    "print(num)"
   ],
   "metadata": {
    "collapsed": false
   },
   "id": "d5678acff4575aaf"
  },
  {
   "cell_type": "code",
   "execution_count": 3,
   "outputs": [
    {
     "name": "stdout",
     "output_type": "stream",
     "text": [
      "The number is: 4\n"
     ]
    }
   ],
   "source": [
    "while True:\n",
    "    num = input(\"Enter a number: \")\n",
    "    try:\n",
    "        num = int(num)  # Try converting to an integer\n",
    "        break\n",
    "    except ValueError:\n",
    "        try:\n",
    "            num = float(num)  # Try converting to a float\n",
    "            num = int(num)  # Convert to an integer\n",
    "            break\n",
    "        except ValueError:\n",
    "            print(\"Please enter a valid number.\")\n",
    "\n",
    "print(\"The number is:\", num)\n"
   ],
   "metadata": {
    "collapsed": false
   },
   "id": "d7d542250b4f2979"
  },
  {
   "cell_type": "code",
   "execution_count": 1,
   "outputs": [
    {
     "name": "stdout",
     "output_type": "stream",
     "text": [
      "The number is: 4\n"
     ]
    }
   ],
   "source": [
    "i = 0\n",
    "while i < 3:\n",
    "    num = input(\"Enter a number: \")\n",
    "    try:\n",
    "        num = int(num)  # Try converting to an integer\n",
    "        break\n",
    "    except ValueError:\n",
    "        try:\n",
    "            num = float(num)  # Try converting to a float\n",
    "            num = int(num)  # Convert to an integer\n",
    "            break\n",
    "        except ValueError:\n",
    "            i += 1\n",
    "            if i == 3:\n",
    "                print(\"You have exceeded the maximum number of attempts.\")\n",
    "                exit()\n",
    "            else:\n",
    "                print(\"Please enter a valid number. You have\", 3-i, \"attempts left.\")\n",
    "\n",
    "print(\"The number is:\", num)"
   ],
   "metadata": {
    "collapsed": false
   },
   "id": "cd994cd1693ef48f"
  },
  {
   "cell_type": "code",
   "execution_count": null,
   "outputs": [],
   "source": [
    "def get_coefficient(name):\n",
    "    while True:\n",
    "        value = input(\"Enter the value of {}: \".format(name))\n",
    "        try:\n",
    "            value = int(value)  # Try converting to an integer\n",
    "            return value\n",
    "        except ValueError:\n",
    "            try:\n",
    "                value = float(value)  # Try converting to a float\n",
    "                value = int(value)  # Convert to an integer\n",
    "                return value\n",
    "            except ValueError:\n",
    "                print(\"Please enter a valid number for {}.\".format(name))\n",
    "\n",
    "while True:\n",
    "    a = get_coefficient(\"a\")\n",
    "    if a == 0:\n",
    "        print(\"Error: a cannot be zero.\")\n",
    "        continue\n",
    "    break\n",
    "\n",
    "b = get_coefficient(\"b\")\n",
    "c = get_coefficient(\"c\")"
   ],
   "metadata": {
    "collapsed": false
   },
   "id": "d1c8c3b93134af05"
  },
  {
   "cell_type": "code",
   "execution_count": 1,
   "outputs": [
    {
     "name": "stdout",
     "output_type": "stream",
     "text": [
      "The roots are -1.00 and -1.50\n"
     ]
    }
   ],
   "source": [
    "# Quadratic Equation Solver\n",
    "\n",
    "import math\n",
    "\n",
    "while True:\n",
    "    a = input(\"Enter the value of a: \")\n",
    "    try:\n",
    "        a = int(a)  # Try converting to an integer\n",
    "        if a == 0:\n",
    "            print(\"Error: a cannot be zero.\")\n",
    "            continue\n",
    "        break\n",
    "    except ValueError:\n",
    "        try:\n",
    "            a = float(a)  # Try converting to a float\n",
    "            a = int(a)  # Convert to an integer\n",
    "            if a == 0:\n",
    "                print(\"Error: a cannot be zero.\")\n",
    "                continue\n",
    "            break\n",
    "        except ValueError:\n",
    "            print(\"Please enter a valid number.\")\n",
    "            \n",
    "\n",
    "while True:\n",
    "    b = input(\"Enter the value of b: \")\n",
    "    try:\n",
    "        b = int(b)  # Try converting to an integer\n",
    "        break\n",
    "    except ValueError:\n",
    "        try:\n",
    "            b = float(b)  # Try converting to a float\n",
    "            b = int(b)  # Convert to an integer\n",
    "            break\n",
    "        except ValueError:\n",
    "            print(\"Please enter a valid number.\")\n",
    "            \n",
    "while True:\n",
    "    c = input(\"Enter the value of c: \")\n",
    "    try:\n",
    "        c = int(c)  # Try converting to an integer\n",
    "        break\n",
    "    except ValueError:\n",
    "        try:\n",
    "            c = float(c)  # Try converting to a float\n",
    "            c = int(c)  # Convert to an integer\n",
    "            break\n",
    "        except ValueError:\n",
    "            print(\"Please enter a valid number.\")\n",
    "\n",
    "\n",
    "# Calculating the discriminant\n",
    "discriminant = (b**2) - (4*a*c)\n",
    "\n",
    "# Finding the roots\n",
    "if discriminant > 0:\n",
    "    root1 = (-b + math.sqrt(discriminant)) / (2*a)\n",
    "    root2 = (-b - math.sqrt(discriminant)) / (2*a)\n",
    "    print(\"The roots are {:.2f} and {:.2f}\".format(root1, root2))\n",
    "elif discriminant == 0:\n",
    "    root1 = root2 = -b / (2*a)\n",
    "    print(\"The roots are {:.2f} and {:.2f}\".format(root1, root2))\n",
    "else:\n",
    "    real = -b / (2*a)\n",
    "    imaginary = math.sqrt(-discriminant) / (2*a)\n",
    "    # print(\"The roots are\", real, \"± i\", imaginary, \"i and\", real, \"-\", imaginary, \"i\")\n",
    "    print(\"The roots are {:.2f} ± {:.2f} i\".format(real, imaginary))\n"
   ],
   "metadata": {
    "collapsed": false,
    "ExecuteTime": {
     "end_time": "2023-10-17T15:06:01.397337300Z",
     "start_time": "2023-10-17T15:05:50.573332200Z"
    }
   },
   "id": "128b1f2a01a654e"
  }
 ],
 "metadata": {
  "kernelspec": {
   "display_name": "Python 3",
   "language": "python",
   "name": "python3"
  },
  "language_info": {
   "codemirror_mode": {
    "name": "ipython",
    "version": 2
   },
   "file_extension": ".py",
   "mimetype": "text/x-python",
   "name": "python",
   "nbconvert_exporter": "python",
   "pygments_lexer": "ipython2",
   "version": "2.7.6"
  }
 },
 "nbformat": 4,
 "nbformat_minor": 5
}
