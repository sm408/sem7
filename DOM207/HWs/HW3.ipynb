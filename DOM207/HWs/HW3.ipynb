{
 "cells": [
  {
   "cell_type": "code",
   "execution_count": 1,
   "id": "b84f77cf519735c4",
   "metadata": {
    "ExecuteTime": {
     "end_time": "2023-10-13T19:24:59.810531900Z",
     "start_time": "2023-10-13T19:24:49.368105800Z"
    },
    "collapsed": false
   },
   "outputs": [
    {
     "name": "stdout",
     "output_type": "stream",
     "text": [
      "The distance from pari chowk to SNU in miles is:  8.077823\n",
      "The distance from Botanical Garden metro station to SNU in km is:  40.2335\n"
     ]
    }
   ],
   "source": [
    "## 1) Distance Conversion\n",
    "\n",
    "# Distance in km from pari chowk to SNU\n",
    "count = 0\n",
    "while True:\n",
    "    distance = input(\"Enter the distance in km from pari chowk to SNU: \")\n",
    "    if distance.isnumeric():\n",
    "        distance = int(distance)\n",
    "        if distance <= 0:\n",
    "            count += 1\n",
    "            if count == 3:\n",
    "                print(\"You've exceeded the limit\")\n",
    "                break\n",
    "            else:\n",
    "                print(\"Please enter a positive number\")\n",
    "        else:\n",
    "            break\n",
    "    else:\n",
    "        print(\"Please enter a number\")\n",
    "        \n",
    "# Converting that # to miles and output it\n",
    "miles = distance * 0.621371\n",
    "print(\"The distance from pari chowk to SNU in miles is: \", miles)\n",
    "\n",
    "# Distance in kms from Botanical Garden metro station to SNU\n",
    "count = 0\n",
    "while True:\n",
    "    distance = input(\"Enter the distance in miles from Botanical Garden metro station to SNU: \")\n",
    "    if distance.isnumeric():\n",
    "        distance = int(distance)\n",
    "        if distance <= 0:\n",
    "            count += 1\n",
    "            if count == 3:\n",
    "                print(\"You've exceeded the limit\")\n",
    "                break\n",
    "            else:\n",
    "                print(\"Please enter a positive number\")\n",
    "        else:\n",
    "            break\n",
    "    else:\n",
    "        print(\"Please enter a number\")\n",
    "        \n",
    "#Converting that # to kilometers and output it\n",
    "km = distance * 1.60934\n",
    "print(\"The distance from Botanical Garden metro station to SNU in km is: \", km)"
   ]
  },
  {
   "cell_type": "code",
   "execution_count": 3,
   "id": "7e6261f469910414",
   "metadata": {
    "ExecuteTime": {
     "end_time": "2023-10-17T07:23:17.404134600Z",
     "start_time": "2023-10-17T07:23:15.048549100Z"
    },
    "collapsed": false
   },
   "outputs": [
    {
     "name": "stdout",
     "output_type": "stream",
     "text": [
      "Factorial of 100 is 93326215443944152681699238856266700490715968264381621468592963895217599993229915608941463976156518286253697920827223758251185210916864000000000000000000000000\n"
     ]
    }
   ],
   "source": [
    "## 2) Factorial of a number\n",
    "while True:\n",
    "    num = input(\"Enter a number: \")\n",
    "    try:\n",
    "        num = int(num)  # Try converting to an integer\n",
    "        break\n",
    "    except ValueError:\n",
    "        try:\n",
    "            num = float(num)  # Try converting to a float\n",
    "            num = int(num)  # Convert to an integer\n",
    "            break\n",
    "        except ValueError:\n",
    "            print(\"Please enter a valid number.\")\n",
    "        \n",
    "#Finding the factorial of that integer\n",
    "factorial = 1\n",
    "if num < 0:\n",
    "    print(\"Factorial is not defined for negative numbers\")\n",
    "elif num == 0:\n",
    "    print(\"Factorial of 0 is 1\")\n",
    "else:\n",
    "    for i in range(1, num + 1):\n",
    "        factorial = factorial * i\n",
    "    print(\"Factorial of\", num, \"is\", factorial)\n",
    "    "
   ]
  },
  {
   "cell_type": "code",
   "execution_count": 6,
   "id": "48ff3d97f6c1085b",
   "metadata": {
    "ExecuteTime": {
     "end_time": "2023-10-17T07:57:59.022999500Z",
     "start_time": "2023-10-17T07:57:56.368452Z"
    },
    "collapsed": false
   },
   "outputs": [
    {
     "name": "stdout",
     "output_type": "stream",
     "text": [
      "2717 is a concurrent multiple of both 13 and 19\n"
     ]
    }
   ],
   "source": [
    "# 3) Concurrent multiple check\n",
    "\n",
    "while True:\n",
    "    num = input(\"Enter a number: \")\n",
    "    try:\n",
    "        num = int(num)  # Try converting to an integer\n",
    "        break\n",
    "    except ValueError:\n",
    "        try:\n",
    "            num = float(num)  # Try converting to a float\n",
    "            num = int(num)  # Convert to an integer\n",
    "            break\n",
    "        except ValueError:\n",
    "            print(\"Please enter a valid number.\")\n",
    "\n",
    "if num % 13 == 0 and num % 19 == 0:\n",
    "    print(num, \"is a concurrent multiple of both 13 and 19\")\n",
    "else:\n",
    "    print(num, \"is not a concurrent multiple of both 13 and 19\")\n",
    "    "
   ]
  },
  {
   "cell_type": "code",
   "execution_count": 20,
   "outputs": [
    {
     "name": "stdout",
     "output_type": "stream",
     "text": [
      "The roots are -1.00 and -1.50\n"
     ]
    }
   ],
   "source": [
    "# 4) Quadratic equation\n",
    "\n",
    "import math\n",
    "\n",
    "def get_coefficient(name):\n",
    "    while True:\n",
    "        value = input(\"Enter the value of {}: \".format(name))\n",
    "        try:\n",
    "            value = int(value)  # Try converting to an integer\n",
    "            return value\n",
    "        except ValueError:\n",
    "            try:\n",
    "                value = float(value)  # Try converting to a float\n",
    "                value = int(value)  # Convert to an integer\n",
    "                return value\n",
    "            except ValueError:\n",
    "                print(\"Please enter a valid number for {}.\".format(name))\n",
    "\n",
    "# Getting the coefficients\n",
    "while True:\n",
    "    a = get_coefficient(\"a\")\n",
    "    if a == 0:\n",
    "        print(\"Error: a cannot be zero.\")\n",
    "        continue\n",
    "    break\n",
    "b = get_coefficient(\"b\")\n",
    "c = get_coefficient(\"c\")\n",
    "\n",
    "\n",
    "# Calculating the discriminant\n",
    "discriminant = (b**2) - (4*a*c)\n",
    "\n",
    "# Finding the roots\n",
    "if discriminant > 0:\n",
    "    root1 = (-b + math.sqrt(discriminant)) / (2*a)\n",
    "    root2 = (-b - math.sqrt(discriminant)) / (2*a)\n",
    "    print(\"The roots are {:.2f} and {:.2f}\".format(root1, root2))\n",
    "elif discriminant == 0:\n",
    "    root1 = root2 = -b / (2*a)\n",
    "    print(\"The roots are {:.2f} and {:.2f}\".format(root1, root2))\n",
    "else:\n",
    "    real = -b / (2*a)\n",
    "    imaginary = math.sqrt(-discriminant) / (2*a)\n",
    "    # print(\"The roots are\", real, \"± i\", imaginary, \"i and\", real, \"-\", imaginary, \"i\")\n",
    "    print(\"The roots are {:.2f} ± {:.2f} i\".format(real, imaginary))\n"
   ],
   "metadata": {
    "collapsed": false,
    "ExecuteTime": {
     "end_time": "2023-10-17T10:14:25.112328900Z",
     "start_time": "2023-10-17T10:14:20.670099700Z"
    }
   },
   "id": "ca23d7aba9641dd5"
  },
  {
   "cell_type": "code",
   "execution_count": 21,
   "outputs": [
    {
     "name": "stdout",
     "output_type": "stream",
     "text": [
      "You entered [1, 3, 5, 4, 2]\n",
      "Successful search, the integer is found at position 2\n"
     ]
    }
   ],
   "source": [
    "# 5) Finding the integer\n",
    "\n",
    "# Function to get the number\n",
    "def get_integer(name):\n",
    "    while True:\n",
    "        value = input(\"Enter the value of {}: \".format(name))\n",
    "        try:\n",
    "            value = int(value)  # Try converting to an integer\n",
    "            return value\n",
    "        except ValueError:\n",
    "            try:\n",
    "                value = float(value)  # Try converting to a float\n",
    "                value = int(value)  # Convert to an integer\n",
    "                return value\n",
    "            except ValueError:\n",
    "                print(\"Please enter a valid number for {}.\".format(name))\n",
    "    \n",
    "# Getting the number\n",
    "while True:\n",
    "    number = get_integer(\"number\")\n",
    "    if number <= 1 or number > 10:\n",
    "        print(\"Please enter a number in the range 1 < number ≤ 10\")\n",
    "        continue\n",
    "    break\n",
    "\n",
    "# Getting the integers\n",
    "integers = []\n",
    "for i in range(number):\n",
    "    integers.append(get_integer(\"integer\"))\n",
    "\n",
    "# Getting the integer to be found\n",
    "integer = get_integer(\"integer to be found\")\n",
    "\n",
    "# Finding the integer\n",
    "if integer in integers:\n",
    "    print(\"Successful search, the integer is found at position\", integers.index(integer) + 1)\n",
    "else:\n",
    "    print(\"Integer not found.\")\n",
    "\n"
   ],
   "metadata": {
    "collapsed": false,
    "ExecuteTime": {
     "end_time": "2023-10-17T14:59:06.704241900Z",
     "start_time": "2023-10-17T14:58:55.462289800Z"
    }
   },
   "id": "25c88d9abbf7da4d"
  },
  {
   "cell_type": "code",
   "execution_count": 22,
   "outputs": [
    {
     "name": "stdout",
     "output_type": "stream",
     "text": [
      "Welcome to the guessing game\n",
      "Your guess is lower than the number.\n",
      "Your guess is lower than the number.\n",
      "Your guess is higher than the number.\n",
      "Your guess is higher than the number.\n",
      "You've lost the game.\n",
      "The number was 7.\n"
     ]
    }
   ],
   "source": [
    "# 6) Guessing game\n",
    "\n",
    "import random\n",
    "\n",
    "# Welcome message\n",
    "print(\"Welcome to the guessing game\")\n",
    "\n",
    "# Generating the random number\n",
    "number = random.randint(1, 20)\n",
    "\n",
    "# Getting the guess\n",
    "for i in range(4):\n",
    "    guess = input(\"Enter your guess: \")\n",
    "    try:\n",
    "        guess = int(guess)  # Try converting to an integer\n",
    "    except ValueError:\n",
    "        try:\n",
    "            guess = float(guess)  # Try converting to a float\n",
    "            guess = int(guess)  # Convert to an integer\n",
    "        except ValueError:\n",
    "            print(\"Please enter a valid number.\")\n",
    "            continue\n",
    "    if guess == number:\n",
    "        print(\"Congratulations, you've won the game!\")\n",
    "        print(\"You took {} attempts to guess the number.\".format(i + 1))\n",
    "        break\n",
    "    elif guess < number:\n",
    "        print(\"Your guess is lower than the number.\")\n",
    "    else:\n",
    "        print(\"Your guess is higher than the number.\")\n",
    "else:\n",
    "    print(\"You've lost the game.\")\n",
    "    print(\"The number was {}.\".format(number))\n",
    "\n"
   ],
   "metadata": {
    "collapsed": false,
    "ExecuteTime": {
     "end_time": "2023-10-17T15:01:58.831425700Z",
     "start_time": "2023-10-17T15:01:44.015449800Z"
    }
   },
   "id": "a0d4451c796751d"
  }
 ],
 "metadata": {
  "kernelspec": {
   "display_name": "Python 3 (ipykernel)",
   "language": "python",
   "name": "python3"
  },
  "language_info": {
   "codemirror_mode": {
    "name": "ipython",
    "version": 3
   },
   "file_extension": ".py",
   "mimetype": "text/x-python",
   "name": "python",
   "nbconvert_exporter": "python",
   "pygments_lexer": "ipython3",
   "version": "3.11.5"
  }
 },
 "nbformat": 4,
 "nbformat_minor": 5
}
