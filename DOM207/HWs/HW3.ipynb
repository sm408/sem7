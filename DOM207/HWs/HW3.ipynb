{
 "cells": [
  {
   "cell_type": "code",
   "execution_count": 1,
   "outputs": [
    {
     "name": "stdout",
     "output_type": "stream",
     "text": [
      "The distance from pari chowk to SNU in miles is:  8.077823\n",
      "The distance from Botanical Garden metro station to SNU in km is:  40.2335\n"
     ]
    }
   ],
   "source": [
    "#Distance in km from pari chowk to SNU\n",
    "count = 0\n",
    "while True:\n",
    "    distance = input(\"Enter the distance in km from pari chowk to SNU: \")\n",
    "    if distance.isnumeric():\n",
    "        distance = int(distance)\n",
    "        if distance <= 0:\n",
    "            count += 1\n",
    "            if count == 3:\n",
    "                print(\"You've exceeded the limit\")\n",
    "                break\n",
    "            else:\n",
    "                print(\"Please enter a positive number\")\n",
    "        else:\n",
    "            break\n",
    "    else:\n",
    "        print(\"Please enter a number\")\n",
    "        \n",
    "#Converting that # to miles and output it\n",
    "miles = distance * 0.621371\n",
    "print(\"The distance from pari chowk to SNU in miles is: \", miles)\n",
    "\n",
    "#Distance in kms from Botanical Garden metro station to SNU\n",
    "count = 0\n",
    "while True:\n",
    "    distance = input(\"Enter the distance in miles from Botanical Garden metro station to SNU: \")\n",
    "    if distance.isnumeric():\n",
    "        distance = int(distance)\n",
    "        if distance <= 0:\n",
    "            count += 1\n",
    "            if count == 3:\n",
    "                print(\"You've exceeded the limit\")\n",
    "                break\n",
    "            else:\n",
    "                print(\"Please enter a positive number\")\n",
    "        else:\n",
    "            break\n",
    "    else:\n",
    "        print(\"Please enter a number\")\n",
    "        \n",
    "#Converting that # to kilometers and output it\n",
    "km = distance * 1.60934\n",
    "print(\"The distance from Botanical Garden metro station to SNU in km is: \", km)"
   ],
   "metadata": {
    "collapsed": false,
    "ExecuteTime": {
     "end_time": "2023-10-13T19:24:59.810531900Z",
     "start_time": "2023-10-13T19:24:49.368105800Z"
    }
   },
   "id": "b84f77cf519735c4"
  },
  {
   "cell_type": "code",
   "execution_count": 13,
   "outputs": [
    {
     "name": "stdout",
     "output_type": "stream",
     "text": [
      "Factorial of 100 is 93326215443944152681699238856266700490715968264381621468592963895217599993229915608941463976156518286253697920827223758251185210916864000000000000000000000000\n"
     ]
    }
   ],
   "source": [
    "# Write a Python program to do the following job:\n",
    "# Ask the user to enter an integer\n",
    "# If the user accidentally enters a real # (i.e., a float), convert it to the nearest integer\n",
    "# Write a program that can find the factorial of that integer\n",
    "# For ex., compute the factorial of 5 (written as 5!) which is 1 * 2 * 3 * 4 * 5 and equals 120.\n",
    "# The factorial is not defined for -ve #s, and the factorial of 0 is 1: 0! = 1\n",
    "\n",
    "#Ask the user to enter an integer and convert it to the nearest integer if the user accidentally enters a real # (i.e., a float)\n",
    "while True:\n",
    "    num = input(\"Enter an integer: \")\n",
    "    if num.isnumeric():\n",
    "        num = int(num)\n",
    "        break\n",
    "    else:\n",
    "        print(\"Please enter an integer\")\n",
    "        \n",
    "#Finding the factorial of that integer\n",
    "factorial = 1\n",
    "if num < 0:\n",
    "    print(\"Factorial is not defined for negative numbers\")\n",
    "elif num == 0:\n",
    "    print(\"Factorial of 0 is 1\")\n",
    "else:\n",
    "    for i in range(1, num + 1):\n",
    "        factorial = factorial * i\n",
    "    print(\"Factorial of\", num, \"is\", factorial)\n",
    "    "
   ],
   "metadata": {
    "collapsed": false,
    "ExecuteTime": {
     "end_time": "2023-10-13T19:44:03.877941500Z",
     "start_time": "2023-10-13T19:44:01.659331400Z"
    }
   },
   "id": "7e6261f469910414"
  },
  {
   "cell_type": "code",
   "execution_count": 5,
   "outputs": [
    {
     "name": "stdout",
     "output_type": "stream",
     "text": [
      "Please enter an integer\n",
      "4.5\n"
     ]
    }
   ],
   "source": [
    "\n",
    "#above code is not going ahead if I enter 2.5. Why?\n",
    "# It is not going ahead because it is not numeric. It is a float. To rectify it we can write this code in the following format\n",
    "\n",
    "num = input(\"Enter an number: \")\n",
    "if num.isnumeric():\n",
    "    num = int(num)\n",
    "elif num.isdecimal():\n",
    "    num = float(num)\n",
    "    num = int(num)\n",
    "else:\n",
    "    print(\"Please enter an integer\")\n",
    "print(num)"
   ],
   "metadata": {
    "collapsed": false,
    "ExecuteTime": {
     "end_time": "2023-10-16T08:31:48.498850200Z",
     "start_time": "2023-10-16T08:31:44.690376800Z"
    }
   },
   "id": "35a82d74c6cd2ffe"
  },
  {
   "cell_type": "code",
   "execution_count": 19,
   "outputs": [
    {
     "ename": "TypeError",
     "evalue": "type str doesn't define __round__ method",
     "output_type": "error",
     "traceback": [
      "\u001B[1;31m---------------------------------------------------------------------------\u001B[0m",
      "\u001B[1;31mTypeError\u001B[0m                                 Traceback (most recent call last)",
      "Cell \u001B[1;32mIn[19], line 3\u001B[0m\n\u001B[0;32m      1\u001B[0m \u001B[38;5;66;03m# check if a number is float or not\u001B[39;00m\n\u001B[0;32m      2\u001B[0m num \u001B[38;5;241m=\u001B[39m \u001B[38;5;28minput\u001B[39m(\u001B[38;5;124m\"\u001B[39m\u001B[38;5;124mEnter a number: \u001B[39m\u001B[38;5;124m\"\u001B[39m)\n\u001B[1;32m----> 3\u001B[0m num \u001B[38;5;241m=\u001B[39m \u001B[38;5;28;43mround\u001B[39;49m\u001B[43m(\u001B[49m\u001B[43mnum\u001B[49m\u001B[43m)\u001B[49m\n\u001B[0;32m      4\u001B[0m \u001B[38;5;28mprint\u001B[39m(num)\n",
      "\u001B[1;31mTypeError\u001B[0m: type str doesn't define __round__ method"
     ]
    }
   ],
   "source": [
    "# check if a number is float or not\n",
    "num = input(\"Enter a number: \")\n",
    "num = round(num)\n",
    "print(num)\n"
   ],
   "metadata": {
    "collapsed": false,
    "ExecuteTime": {
     "end_time": "2023-10-13T19:47:35.539060900Z",
     "start_time": "2023-10-13T19:47:32.595572400Z"
    }
   },
   "id": "432090d581aa27f9"
  },
  {
   "cell_type": "code",
   "execution_count": 3,
   "outputs": [
    {
     "name": "stdout",
     "output_type": "stream",
     "text": [
      "The number is: 4\n"
     ]
    }
   ],
   "source": [
    "while True:\n",
    "    num = input(\"Enter a number: \")\n",
    "    try:\n",
    "        num = int(num)  # Try converting to an integer\n",
    "        break\n",
    "    except ValueError:\n",
    "        try:\n",
    "            num = float(num)  # Try converting to a float\n",
    "            num = int(num)  # Convert to an integer\n",
    "            break\n",
    "        except ValueError:\n",
    "            print(\"Please enter a valid number.\")\n",
    "\n",
    "print(\"The number is:\", num)\n"
   ],
   "metadata": {
    "collapsed": false,
    "ExecuteTime": {
     "end_time": "2023-10-16T08:15:52.141492400Z",
     "start_time": "2023-10-16T08:15:50.325610800Z"
    }
   },
   "id": "4318e9fdc33140fe"
  }
 ],
 "metadata": {
  "kernelspec": {
   "display_name": "Python 3",
   "language": "python",
   "name": "python3"
  },
  "language_info": {
   "codemirror_mode": {
    "name": "ipython",
    "version": 2
   },
   "file_extension": ".py",
   "mimetype": "text/x-python",
   "name": "python",
   "nbconvert_exporter": "python",
   "pygments_lexer": "ipython2",
   "version": "2.7.6"
  }
 },
 "nbformat": 4,
 "nbformat_minor": 5
}
