{
 "cells": [
  {
   "cell_type": "code",
   "execution_count": 66,
   "id": "initial_id",
   "metadata": {
    "collapsed": true,
    "ExecuteTime": {
     "end_time": "2023-10-09T10:03:41.291797400Z",
     "start_time": "2023-10-09T10:03:40.992139800Z"
    }
   },
   "outputs": [],
   "source": [
    "import pandas as pd\n",
    "import numpy as np\n",
    "import openpyxl"
   ]
  },
  {
   "cell_type": "code",
   "execution_count": 67,
   "outputs": [],
   "source": [
    "#Converting and loading serve.xlsx to serve.csv\n",
    "data_xls = pd.read_excel('serve.xlsx', 'Serve', index_col=None)\n",
    "\n",
    "data_xls.to_csv('serve.csv', encoding='utf-8', index=False)\n"
   ],
   "metadata": {
    "collapsed": false,
    "ExecuteTime": {
     "end_time": "2023-10-09T10:03:41.321718400Z",
     "start_time": "2023-10-09T10:03:41.020454700Z"
    }
   },
   "id": "d9afbf972caa5a7b"
  },
  {
   "cell_type": "code",
   "execution_count": 68,
   "outputs": [
    {
     "data": {
      "text/plain": "  Amount   Tip  Gender Smoker  Day    Time  Partysize  Unnamed: 7  Unnamed: 8  \\\n0  16.99  1.01  Female     No  Sun  Dinner        2.0         NaN         NaN   \n1  10.34  1.66    Male     No  Sun  Dinner        3.0         NaN         NaN   \n2  21.01  3.50    Male     No  Sun  Dinner        3.0         NaN         NaN   \n3  23.68  3.31     Mal     No  Sun  Dinner        2.0         NaN         NaN   \n4  24.59  3.61  Female     No  Sun  Dinner        4.0         NaN         NaN   \n\n   Unnamed: 9 Unnamed: 10  \n0         NaN         NaN  \n1         NaN         NaN  \n2         NaN         NaN  \n3         NaN         NaN  \n4         NaN         NaN  ",
      "text/html": "<div>\n<style scoped>\n    .dataframe tbody tr th:only-of-type {\n        vertical-align: middle;\n    }\n\n    .dataframe tbody tr th {\n        vertical-align: top;\n    }\n\n    .dataframe thead th {\n        text-align: right;\n    }\n</style>\n<table border=\"1\" class=\"dataframe\">\n  <thead>\n    <tr style=\"text-align: right;\">\n      <th></th>\n      <th>Amount</th>\n      <th>Tip</th>\n      <th>Gender</th>\n      <th>Smoker</th>\n      <th>Day</th>\n      <th>Time</th>\n      <th>Partysize</th>\n      <th>Unnamed: 7</th>\n      <th>Unnamed: 8</th>\n      <th>Unnamed: 9</th>\n      <th>Unnamed: 10</th>\n    </tr>\n  </thead>\n  <tbody>\n    <tr>\n      <th>0</th>\n      <td>16.99</td>\n      <td>1.01</td>\n      <td>Female</td>\n      <td>No</td>\n      <td>Sun</td>\n      <td>Dinner</td>\n      <td>2.0</td>\n      <td>NaN</td>\n      <td>NaN</td>\n      <td>NaN</td>\n      <td>NaN</td>\n    </tr>\n    <tr>\n      <th>1</th>\n      <td>10.34</td>\n      <td>1.66</td>\n      <td>Male</td>\n      <td>No</td>\n      <td>Sun</td>\n      <td>Dinner</td>\n      <td>3.0</td>\n      <td>NaN</td>\n      <td>NaN</td>\n      <td>NaN</td>\n      <td>NaN</td>\n    </tr>\n    <tr>\n      <th>2</th>\n      <td>21.01</td>\n      <td>3.50</td>\n      <td>Male</td>\n      <td>No</td>\n      <td>Sun</td>\n      <td>Dinner</td>\n      <td>3.0</td>\n      <td>NaN</td>\n      <td>NaN</td>\n      <td>NaN</td>\n      <td>NaN</td>\n    </tr>\n    <tr>\n      <th>3</th>\n      <td>23.68</td>\n      <td>3.31</td>\n      <td>Mal</td>\n      <td>No</td>\n      <td>Sun</td>\n      <td>Dinner</td>\n      <td>2.0</td>\n      <td>NaN</td>\n      <td>NaN</td>\n      <td>NaN</td>\n      <td>NaN</td>\n    </tr>\n    <tr>\n      <th>4</th>\n      <td>24.59</td>\n      <td>3.61</td>\n      <td>Female</td>\n      <td>No</td>\n      <td>Sun</td>\n      <td>Dinner</td>\n      <td>4.0</td>\n      <td>NaN</td>\n      <td>NaN</td>\n      <td>NaN</td>\n      <td>NaN</td>\n    </tr>\n  </tbody>\n</table>\n</div>"
     },
     "execution_count": 68,
     "metadata": {},
     "output_type": "execute_result"
    }
   ],
   "source": [
    "#loading serve.csv to serve_df\n",
    "serve_df = pd.read_csv('serve.csv')\n",
    "serve_df.head()"
   ],
   "metadata": {
    "collapsed": false,
    "ExecuteTime": {
     "end_time": "2023-10-09T10:03:41.322725300Z",
     "start_time": "2023-10-09T10:03:41.257142700Z"
    }
   },
   "id": "ca0b8449275d9784"
  },
  {
   "cell_type": "code",
   "execution_count": 69,
   "outputs": [
    {
     "data": {
      "text/plain": "  Amount   Tip  Gender Smoker  Day    Time  Partysize\n0  16.99  1.01  Female     No  Sun  Dinner        2.0\n1  10.34  1.66    Male     No  Sun  Dinner        3.0\n2  21.01  3.50    Male     No  Sun  Dinner        3.0\n3  23.68  3.31     Mal     No  Sun  Dinner        2.0\n4  24.59  3.61  Female     No  Sun  Dinner        4.0",
      "text/html": "<div>\n<style scoped>\n    .dataframe tbody tr th:only-of-type {\n        vertical-align: middle;\n    }\n\n    .dataframe tbody tr th {\n        vertical-align: top;\n    }\n\n    .dataframe thead th {\n        text-align: right;\n    }\n</style>\n<table border=\"1\" class=\"dataframe\">\n  <thead>\n    <tr style=\"text-align: right;\">\n      <th></th>\n      <th>Amount</th>\n      <th>Tip</th>\n      <th>Gender</th>\n      <th>Smoker</th>\n      <th>Day</th>\n      <th>Time</th>\n      <th>Partysize</th>\n    </tr>\n  </thead>\n  <tbody>\n    <tr>\n      <th>0</th>\n      <td>16.99</td>\n      <td>1.01</td>\n      <td>Female</td>\n      <td>No</td>\n      <td>Sun</td>\n      <td>Dinner</td>\n      <td>2.0</td>\n    </tr>\n    <tr>\n      <th>1</th>\n      <td>10.34</td>\n      <td>1.66</td>\n      <td>Male</td>\n      <td>No</td>\n      <td>Sun</td>\n      <td>Dinner</td>\n      <td>3.0</td>\n    </tr>\n    <tr>\n      <th>2</th>\n      <td>21.01</td>\n      <td>3.50</td>\n      <td>Male</td>\n      <td>No</td>\n      <td>Sun</td>\n      <td>Dinner</td>\n      <td>3.0</td>\n    </tr>\n    <tr>\n      <th>3</th>\n      <td>23.68</td>\n      <td>3.31</td>\n      <td>Mal</td>\n      <td>No</td>\n      <td>Sun</td>\n      <td>Dinner</td>\n      <td>2.0</td>\n    </tr>\n    <tr>\n      <th>4</th>\n      <td>24.59</td>\n      <td>3.61</td>\n      <td>Female</td>\n      <td>No</td>\n      <td>Sun</td>\n      <td>Dinner</td>\n      <td>4.0</td>\n    </tr>\n  </tbody>\n</table>\n</div>"
     },
     "execution_count": 69,
     "metadata": {},
     "output_type": "execute_result"
    }
   ],
   "source": [
    "#df = df.loc[:, ~df.columns.str.contains('^Unnamed')]\n",
    "serve_df = serve_df.loc[:, ~serve_df.columns.str.contains('^Unnamed')]\n",
    "\n",
    "serve_df.head()"
   ],
   "metadata": {
    "collapsed": false,
    "ExecuteTime": {
     "end_time": "2023-10-09T10:03:41.363576800Z",
     "start_time": "2023-10-09T10:03:41.291797400Z"
    }
   },
   "id": "488f3518b75db458"
  },
  {
   "cell_type": "markdown",
   "source": [
    "# Data Cleaning"
   ],
   "metadata": {
    "collapsed": false
   },
   "id": "c62dc0d7372c748e"
  },
  {
   "cell_type": "code",
   "execution_count": 70,
   "outputs": [
    {
     "data": {
      "text/plain": "array(['Sun', 'Sat', 'Thur', 'Fri', 'Friday', 'Thurs', 'San', nan, 'S',\n       'Sn'], dtype=object)"
     },
     "execution_count": 70,
     "metadata": {},
     "output_type": "execute_result"
    }
   ],
   "source": [
    "serve_df.Day.unique()\n"
   ],
   "metadata": {
    "collapsed": false,
    "ExecuteTime": {
     "end_time": "2023-10-09T10:03:41.387247300Z",
     "start_time": "2023-10-09T10:03:41.322725300Z"
    }
   },
   "id": "b2724f317ca2f9a0"
  },
  {
   "cell_type": "code",
   "execution_count": 71,
   "outputs": [
    {
     "data": {
      "text/plain": "array(['SUN', 'SAT', 'THU', 'FRI', nan], dtype=object)"
     },
     "execution_count": 71,
     "metadata": {},
     "output_type": "execute_result"
    }
   ],
   "source": [
    "\n",
    "#Changing day names to THU, FRI, SAT and SUN\n",
    "serve_df[\"Day\"] = serve_df[\"Day\"].replace([\"Sun\"],\"SUN\")\n",
    "serve_df[\"Day\"] = serve_df[\"Day\"].replace([\"Sat\"],\"SAT\")\n",
    "serve_df[\"Day\"] = serve_df[\"Day\"].replace([\"Thur\"],\"THU\")\n",
    "serve_df[\"Day\"] = serve_df[\"Day\"].replace([\"Fri\"],\"FRI\")\n",
    "serve_df[\"Day\"] = serve_df[\"Day\"].replace([\"Friday\"],\"FRI\")\n",
    "serve_df[\"Day\"] = serve_df[\"Day\"].replace([\"Thurs\"],\"THU\")\n",
    "\n",
    "#Changing other values in day to Nan\n",
    "serve_df[\"Day\"] = serve_df[\"Day\"].replace([\"San\"],np.NaN)\n",
    "serve_df[\"Day\"] = serve_df[\"Day\"].replace([\"S\"],np.NaN)\n",
    "serve_df[\"Day\"] = serve_df[\"Day\"].replace([\"Sn\"],np.NaN)\n",
    "\n",
    "serve_df.Day.unique()"
   ],
   "metadata": {
    "collapsed": false,
    "ExecuteTime": {
     "end_time": "2023-10-09T10:03:41.477218900Z",
     "start_time": "2023-10-09T10:03:41.346944400Z"
    }
   },
   "id": "a44e4f30c6b6a30b"
  },
  {
   "cell_type": "code",
   "execution_count": 72,
   "outputs": [
    {
     "data": {
      "text/plain": "array(['Female', 'Male', 'Mal', 'F', 'M', 'Fe'], dtype=object)"
     },
     "execution_count": 72,
     "metadata": {},
     "output_type": "execute_result"
    }
   ],
   "source": [
    "#Cleaning the gender column\n",
    "serve_df.Gender.unique()"
   ],
   "metadata": {
    "collapsed": false,
    "ExecuteTime": {
     "end_time": "2023-10-09T10:03:41.499686Z",
     "start_time": "2023-10-09T10:03:41.363576800Z"
    }
   },
   "id": "3a677e08823741cb"
  },
  {
   "cell_type": "code",
   "execution_count": 73,
   "outputs": [
    {
     "data": {
      "text/plain": "array(['Female', 'Male'], dtype=object)"
     },
     "execution_count": 73,
     "metadata": {},
     "output_type": "execute_result"
    }
   ],
   "source": [
    "serve_df[\"Day\"] = serve_df[\"Day\"].replace([\"Friday\"],\"FRI\")\n",
    "serve_df[\"Gender\"] = serve_df[\"Gender\"].replace([\"Mal\"],\"Male\")\n",
    "serve_df[\"Gender\"] = serve_df[\"Gender\"].replace([\"M\"],\"Male\")\n",
    "serve_df[\"Gender\"] = serve_df[\"Gender\"].replace([\"F\"],\"Female\")\n",
    "serve_df[\"Gender\"] = serve_df[\"Gender\"].replace([\"Fe\"],\"Female\")\n",
    "\n",
    "serve_df.Gender.unique()"
   ],
   "metadata": {
    "collapsed": false,
    "ExecuteTime": {
     "end_time": "2023-10-09T10:03:41.568742800Z",
     "start_time": "2023-10-09T10:03:41.379238900Z"
    }
   },
   "id": "4ccb63c0f74f6de3"
  },
  {
   "cell_type": "code",
   "execution_count": 74,
   "outputs": [
    {
     "data": {
      "text/plain": "array(['No', 'N', nan, 'Yes', 'Y', 's'], dtype=object)"
     },
     "execution_count": 74,
     "metadata": {},
     "output_type": "execute_result"
    }
   ],
   "source": [
    "#cleaning the Smoker column\n",
    "serve_df.Smoker.unique()"
   ],
   "metadata": {
    "collapsed": false,
    "ExecuteTime": {
     "end_time": "2023-10-09T10:03:41.617861Z",
     "start_time": "2023-10-09T10:03:41.395657500Z"
    }
   },
   "id": "44ba96aa7af2f722"
  },
  {
   "cell_type": "code",
   "execution_count": 75,
   "outputs": [
    {
     "data": {
      "text/plain": "array(['No', nan, 'Yes'], dtype=object)"
     },
     "execution_count": 75,
     "metadata": {},
     "output_type": "execute_result"
    }
   ],
   "source": [
    "serve_df[\"Smoker\"] = serve_df[\"Smoker\"].replace([\"Y\"],\"Yes\")\n",
    "serve_df[\"Smoker\"] = serve_df[\"Smoker\"].replace([\"N\"],\"No\")\n",
    "serve_df[\"Smoker\"] = serve_df[\"Smoker\"].replace([\"s\"],np.NaN)\n",
    "\n",
    "serve_df.Smoker.unique()"
   ],
   "metadata": {
    "collapsed": false,
    "ExecuteTime": {
     "end_time": "2023-10-09T10:03:41.643076400Z",
     "start_time": "2023-10-09T10:03:41.411478100Z"
    }
   },
   "id": "5f796e60c5ba5a77"
  },
  {
   "cell_type": "code",
   "execution_count": 76,
   "outputs": [
    {
     "data": {
      "text/plain": "array(['Dinner', 'Lunch', 'LD', 'L', 'Di', nan, 'Diner', 'D'],\n      dtype=object)"
     },
     "execution_count": 76,
     "metadata": {},
     "output_type": "execute_result"
    }
   ],
   "source": [
    "#cleaning the time column\n",
    "serve_df.Time.unique()"
   ],
   "metadata": {
    "collapsed": false,
    "ExecuteTime": {
     "end_time": "2023-10-09T10:03:41.643076400Z",
     "start_time": "2023-10-09T10:03:41.419931500Z"
    }
   },
   "id": "50f785492602a7e6"
  },
  {
   "cell_type": "code",
   "execution_count": 77,
   "outputs": [
    {
     "data": {
      "text/plain": "array(['Dinner', 'Lunch', nan], dtype=object)"
     },
     "execution_count": 77,
     "metadata": {},
     "output_type": "execute_result"
    }
   ],
   "source": [
    "serve_df[\"Time\"] = serve_df[\"Time\"].replace([\"Di\"],\"Dinner\")\n",
    "serve_df[\"Time\"] = serve_df[\"Time\"].replace([\"Diner\"],\"Dinner\")\n",
    "serve_df[\"Time\"] = serve_df[\"Time\"].replace([\"D\"],\"Dinner\")\n",
    "serve_df[\"Time\"] = serve_df[\"Time\"].replace([\"L\"],\"Lunch\")\n",
    "serve_df[\"Time\"] = serve_df[\"Time\"].replace([\"LD\"],np.NaN)\n",
    "\n",
    "serve_df.Time.unique()"
   ],
   "metadata": {
    "collapsed": false,
    "ExecuteTime": {
     "end_time": "2023-10-09T10:03:41.659294600Z",
     "start_time": "2023-10-09T10:03:41.436424100Z"
    }
   },
   "id": "25965f745b530a10"
  },
  {
   "cell_type": "code",
   "execution_count": 78,
   "outputs": [
    {
     "data": {
      "text/plain": "array([ 2. ,  3. ,  4. ,  nan,  1. , 26. ,  6. ,  5. , 22. ,  0.2, 12. ,\n       -2. ,  0. , 38. , 29. , 45. ])"
     },
     "execution_count": 78,
     "metadata": {},
     "output_type": "execute_result"
    }
   ],
   "source": [
    "#cleaning the Partysize column\n",
    "serve_df.Partysize.unique()\n"
   ],
   "metadata": {
    "collapsed": false,
    "ExecuteTime": {
     "end_time": "2023-10-09T10:03:41.659294600Z",
     "start_time": "2023-10-09T10:03:41.452540900Z"
    }
   },
   "id": "b9baa7aff1ece09a"
  },
  {
   "cell_type": "code",
   "execution_count": 79,
   "outputs": [
    {
     "data": {
      "text/plain": "Index([176], dtype='int64')"
     },
     "execution_count": 79,
     "metadata": {},
     "output_type": "execute_result"
    }
   ],
   "source": [
    "#find the index of 0.2 in partysize\n",
    "\n",
    "\n",
    "serve_df[serve_df['Partysize'] == 0.2].index\n",
    "\n"
   ],
   "metadata": {
    "collapsed": false,
    "ExecuteTime": {
     "end_time": "2023-10-09T10:03:41.659294600Z",
     "start_time": "2023-10-09T10:03:41.460904900Z"
    }
   },
   "id": "b74399f173f796cb"
  },
  {
   "cell_type": "code",
   "execution_count": 80,
   "outputs": [
    {
     "data": {
      "text/plain": "array([ 2.,  3.,  4., nan,  1., 26.,  6.,  5., 22., 12., 38., 29., 45.])"
     },
     "execution_count": 80,
     "metadata": {},
     "output_type": "execute_result"
    }
   ],
   "source": [
    "#if partysize is less than 1 then change it to np.NaN\n",
    "serve_df.loc[serve_df['Partysize'] < 1, 'Partysize'] = np.NaN\n",
    "\n",
    "serve_df.Partysize.unique()"
   ],
   "metadata": {
    "collapsed": false,
    "ExecuteTime": {
     "end_time": "2023-10-09T10:03:41.659294600Z",
     "start_time": "2023-10-09T10:03:41.477218900Z"
    }
   },
   "id": "81d347f88b7b43a0"
  },
  {
   "cell_type": "code",
   "execution_count": 81,
   "outputs": [
    {
     "data": {
      "text/plain": "array([ 16.99,  10.34,  21.01,  23.68,  24.59,  25.29,   8.77,  26.88,\n        15.04,  14.78,  10.27,  35.26,  15.42,  18.43,  14.83,  21.58,\n        10.33,  16.29,  16.97,  20.65,  17.92,  20.29,  15.77,  39.42,\n        19.82,  17.81,  13.37,  12.69,  21.7 ,  19.65,   9.55,  18.35,\n        15.06,  20.69,  17.78,  24.06,  16.31,  16.93,  18.69,  31.27,\n        16.04,  17.46,  13.94,   9.68,  30.4 ,  18.29,  22.23,  32.4 ,\n        28.55,  18.04,  12.54,  10.29,  34.81,   9.94,  25.56,  19.49,\n        38.01,  26.41,  11.24,  48.27,  13.81,  11.02,  17.59,  20.08,\n        16.45,   3.07,  20.23,  15.01,  12.02,  17.07,  26.86,  25.28,\n        14.73,  10.51,  27.2 ,  22.76,  17.29,  19.44,  16.66,  10.07,\n        32.68,  15.98,  34.83,  13.03,  18.28,  24.71,  21.16,  28.97,\n        22.49,   5.75,  16.32,  22.75,  40.17,  27.28,  12.03,  12.46,\n        11.35,  15.38,  44.3 ,  22.42,  20.92,  15.36,  20.49,  25.21,\n        18.24,  14.31,  14.  ,   7.25,  38.07,  23.95,  25.71,  17.31,\n        29.93,  10.65,  12.43,  24.08,  11.69,  13.42,  14.26,  15.95,\n        12.48,  29.8 ,   8.52,  14.52,  11.38,  22.82,  19.08,  20.27,\n        11.17,  12.26,  18.26,   8.51,  14.15,  16.  ,  13.16,  17.47,\n        34.3 ,  41.19,  27.05,  16.43,   8.35,  18.64,  11.87,   9.78,\n         7.51,  14.07,  13.13,  17.26,  24.55,  19.77,  29.85,  48.17,\n        25.  ,  13.39,  16.49,  21.5 ,  12.66,  16.21,  17.51,  24.52,\n        20.76,  31.71,  10.59,  10.63,  50.81, 117.81,  31.85,  16.82,\n        32.9 ,  17.89,  14.48,  96.6 ,  34.63,  34.65,  23.33,  45.35,\n        23.17,  40.55,  20.9 ,  30.46,  18.15,  23.1 ,  15.69,  19.81,\n        28.44,  15.48,  16.58,   7.56,  43.11,  13.  ,  13.51,  18.71,\n        12.74,  16.4 ,  20.53,  16.47,  26.59,  38.73,  24.27,  12.76,\n        30.06,  25.89,  48.33,  13.27,  28.17,  12.9 ,  28.15,  11.59,\n         7.74,  30.14,  12.16,   8.58,  16.27,  10.09,  20.45,  13.28,\n        22.12,  24.01,  11.61,  10.77,  15.53,  12.6 ,  32.83,  35.83,\n        29.03,  27.18,  22.67,  17.82,  18.78,  19.29,  26.34,  24.21,\n        18.23,  20.5 ,  30.87,  24.56,  13.69,  22.89,  19.1 ,   9.87,\n        25.68,  33.87,  40.45,  33.76,  29.87,  18.98,   8.88,  13.89,\n        29.99,  43.8 ,   8.9 ,  23.91,  33.8 ,  40.9 ,  22.66,  29.76,\n        15.  ,  22.5 ,  33.6 ,  25.65,  30.  ,  16.7 ,  25.55,  27.79,\n        30.3 ,  10.1 ,  16.68,  19.9 ,  30.35,  44.34,  23.45,  17.7 ,\n        24.5 ,  18.  ,  27.8 ,  35.6 ,  29.9 ,  16.57,  20.66,  44.4 ,\n        32.56,  13.55,  11.43,  14.56,  22.01,  21.34,  12.89,   1.01,\n        21.56,    nan,  19.76,  19.09,  23.9 ,  20.09,  19.23,  28.45,\n        33.45,  24.67,  26.9 ,  17.6 ,  21.  ,  30.15,  29.35,  31.5 ,\n        14.69,  24.  ,  26.35,  16.65,  22.33,  18.67,  18.09,  21.67,\n        18.89,  16.37,  19.12])"
     },
     "execution_count": 81,
     "metadata": {},
     "output_type": "execute_result"
    }
   ],
   "source": [
    "#from amount column replace the non float numbers with np.NaN\n",
    "serve_df['Amount'] = pd.to_numeric(serve_df['Amount'], errors='coerce')\n",
    "serve_df.Amount.unique()"
   ],
   "metadata": {
    "collapsed": false,
    "ExecuteTime": {
     "end_time": "2023-10-09T10:03:41.659294600Z",
     "start_time": "2023-10-09T10:03:41.485395500Z"
    }
   },
   "id": "6e0d010bbc28133c"
  },
  {
   "cell_type": "code",
   "execution_count": 82,
   "outputs": [],
   "source": [
    "#export the cleaned data to serve_cleaned.csv\n",
    "serve_df.to_csv('serve_cleaned.csv', encoding='utf-8', index=False)"
   ],
   "metadata": {
    "collapsed": false,
    "ExecuteTime": {
     "end_time": "2023-10-09T10:03:41.757646200Z",
     "start_time": "2023-10-09T10:03:41.502209200Z"
    }
   },
   "id": "286b8bdadde34899"
  }
 ],
 "metadata": {
  "kernelspec": {
   "display_name": "Python 3",
   "language": "python",
   "name": "python3"
  },
  "language_info": {
   "codemirror_mode": {
    "name": "ipython",
    "version": 2
   },
   "file_extension": ".py",
   "mimetype": "text/x-python",
   "name": "python",
   "nbconvert_exporter": "python",
   "pygments_lexer": "ipython2",
   "version": "2.7.6"
  }
 },
 "nbformat": 4,
 "nbformat_minor": 5
}
